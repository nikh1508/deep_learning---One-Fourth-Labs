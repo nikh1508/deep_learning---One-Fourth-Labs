{
 "cells": [
  {
   "cell_type": "markdown",
   "metadata": {
    "colab_type": "text",
    "id": "XYXQX6MHZOCT"
   },
   "source": [
    "# Simple data types and operators"
   ]
  },
  {
   "cell_type": "code",
   "execution_count": 0,
   "metadata": {
    "colab": {},
    "colab_type": "code",
    "id": "4nrTtKWTUfj-"
   },
   "outputs": [],
   "source": [
    "name = 'iPhone 5s'"
   ]
  },
  {
   "cell_type": "code",
   "execution_count": 0,
   "metadata": {
    "colab": {
     "base_uri": "https://localhost:8080/",
     "height": 36
    },
    "colab_type": "code",
    "executionInfo": {
     "elapsed": 851,
     "status": "ok",
     "timestamp": 1548592800609,
     "user": {
      "displayName": "One Fourth Labs Student",
      "photoUrl": "",
      "userId": "07586129509304884691"
     },
     "user_tz": -330
    },
    "id": "FPNzkLdmUm_K",
    "outputId": "f10a6d80-a23a-48a3-8a0d-0fc678e009a4"
   },
   "outputs": [
    {
     "data": {
      "text/plain": [
       "str"
      ]
     },
     "execution_count": 2,
     "metadata": {
      "tags": []
     },
     "output_type": "execute_result"
    }
   ],
   "source": [
    "type(name)"
   ]
  },
  {
   "cell_type": "code",
   "execution_count": 0,
   "metadata": {
    "colab": {
     "base_uri": "https://localhost:8080/",
     "height": 36
    },
    "colab_type": "code",
    "executionInfo": {
     "elapsed": 1024,
     "status": "ok",
     "timestamp": 1548592818694,
     "user": {
      "displayName": "One Fourth Labs Student",
      "photoUrl": "",
      "userId": "07586129509304884691"
     },
     "user_tz": -330
    },
    "id": "mPBSQQTmUt-g",
    "outputId": "48da46e9-14e3-47ff-f539-32bf5897490d"
   },
   "outputs": [
    {
     "name": "stdout",
     "output_type": "stream",
     "text": [
      "iPhone 5s\n"
     ]
    }
   ],
   "source": [
    "print(name)"
   ]
  },
  {
   "cell_type": "code",
   "execution_count": 0,
   "metadata": {
    "colab": {
     "base_uri": "https://localhost:8080/",
     "height": 36
    },
    "colab_type": "code",
    "executionInfo": {
     "elapsed": 597,
     "status": "ok",
     "timestamp": 1548592836559,
     "user": {
      "displayName": "One Fourth Labs Student",
      "photoUrl": "",
      "userId": "07586129509304884691"
     },
     "user_tz": -330
    },
    "id": "TM72O_cVUyWX",
    "outputId": "a3b49ead-483d-438a-95b7-2ed3165cf922"
   },
   "outputs": [
    {
     "data": {
      "text/plain": [
       "float"
      ]
     },
     "execution_count": 4,
     "metadata": {
      "tags": []
     },
     "output_type": "execute_result"
    }
   ],
   "source": [
    "screen_size = 4.3\n",
    "type(screen_size)"
   ]
  },
  {
   "cell_type": "code",
   "execution_count": 0,
   "metadata": {
    "colab": {},
    "colab_type": "code",
    "id": "IVhG8yejU20h"
   },
   "outputs": [],
   "source": [
    "num_of_speakers = 1"
   ]
  },
  {
   "cell_type": "code",
   "execution_count": 0,
   "metadata": {
    "colab": {
     "base_uri": "https://localhost:8080/",
     "height": 36
    },
    "colab_type": "code",
    "executionInfo": {
     "elapsed": 1028,
     "status": "ok",
     "timestamp": 1548592874315,
     "user": {
      "displayName": "One Fourth Labs Student",
      "photoUrl": "",
      "userId": "07586129509304884691"
     },
     "user_tz": -330
    },
    "id": "Pdl_938QU9m6",
    "outputId": "44e575b0-4cfa-4f17-b4ac-d134145b1e93"
   },
   "outputs": [
    {
     "data": {
      "text/plain": [
       "int"
      ]
     },
     "execution_count": 6,
     "metadata": {
      "tags": []
     },
     "output_type": "execute_result"
    }
   ],
   "source": [
    "type(num_of_speakers)"
   ]
  },
  {
   "cell_type": "code",
   "execution_count": 0,
   "metadata": {
    "colab": {
     "base_uri": "https://localhost:8080/",
     "height": 36
    },
    "colab_type": "code",
    "executionInfo": {
     "elapsed": 946,
     "status": "ok",
     "timestamp": 1548592899081,
     "user": {
      "displayName": "One Fourth Labs Student",
      "photoUrl": "",
      "userId": "07586129509304884691"
     },
     "user_tz": -330
    },
    "id": "46zyohNZU_7z",
    "outputId": "9a836c53-a876-4b7a-96b6-3ac07d3b8184"
   },
   "outputs": [
    {
     "name": "stdout",
     "output_type": "stream",
     "text": [
      "I just bought an iPhone 5s\n"
     ]
    }
   ],
   "source": [
    "print('I just bought an ' + name)"
   ]
  },
  {
   "cell_type": "code",
   "execution_count": 0,
   "metadata": {
    "colab": {
     "base_uri": "https://localhost:8080/",
     "height": 36
    },
    "colab_type": "code",
    "executionInfo": {
     "elapsed": 914,
     "status": "ok",
     "timestamp": 1548592939657,
     "user": {
      "displayName": "One Fourth Labs Student",
      "photoUrl": "",
      "userId": "07586129509304884691"
     },
     "user_tz": -330
    },
    "id": "nW9PGsCFVGAB",
    "outputId": "5abe133f-5cd7-49df-f8db-cf83cbf3e519"
   },
   "outputs": [
    {
     "name": "stdout",
     "output_type": "stream",
     "text": [
      "6 1.5 5 1 9 1\n"
     ]
    }
   ],
   "source": [
    "a = 3\n",
    "b = 2\n",
    "print( a * b, a / b, a + b, a - b, a ** b, a // b)"
   ]
  },
  {
   "cell_type": "code",
   "execution_count": 0,
   "metadata": {
    "colab": {
     "base_uri": "https://localhost:8080/",
     "height": 36
    },
    "colab_type": "code",
    "executionInfo": {
     "elapsed": 754,
     "status": "ok",
     "timestamp": 1548592962291,
     "user": {
      "displayName": "One Fourth Labs Student",
      "photoUrl": "",
      "userId": "07586129509304884691"
     },
     "user_tz": -330
    },
    "id": "O8n1BxEUVKlJ",
    "outputId": "404f0091-9ad0-44b4-8195-0c227a0a6aba"
   },
   "outputs": [
    {
     "data": {
      "text/plain": [
       "bool"
      ]
     },
     "execution_count": 11,
     "metadata": {
      "tags": []
     },
     "output_type": "execute_result"
    }
   ],
   "source": [
    "is_android = False\n",
    "type(is_android)"
   ]
  },
  {
   "cell_type": "code",
   "execution_count": 0,
   "metadata": {
    "colab": {
     "base_uri": "https://localhost:8080/",
     "height": 36
    },
    "colab_type": "code",
    "executionInfo": {
     "elapsed": 993,
     "status": "ok",
     "timestamp": 1548592977156,
     "user": {
      "displayName": "One Fourth Labs Student",
      "photoUrl": "",
      "userId": "07586129509304884691"
     },
     "user_tz": -330
    },
    "id": "SwPmpf3OVVeJ",
    "outputId": "172f6973-f4fe-4077-ad5d-4984100273b5"
   },
   "outputs": [
    {
     "name": "stdout",
     "output_type": "stream",
     "text": [
      "False\n"
     ]
    }
   ],
   "source": [
    "print (is_android == True)"
   ]
  },
  {
   "cell_type": "code",
   "execution_count": 0,
   "metadata": {
    "colab": {
     "base_uri": "https://localhost:8080/",
     "height": 36
    },
    "colab_type": "code",
    "executionInfo": {
     "elapsed": 787,
     "status": "ok",
     "timestamp": 1548592997602,
     "user": {
      "displayName": "One Fourth Labs Student",
      "photoUrl": "",
      "userId": "07586129509304884691"
     },
     "user_tz": -330
    },
    "id": "LJGzx6_oVZCg",
    "outputId": "b73a3f82-f13b-4915-a861-caa4d14262ac"
   },
   "outputs": [
    {
     "name": "stdout",
     "output_type": "stream",
     "text": [
      "False\n"
     ]
    }
   ],
   "source": [
    "print (is_android == False and num_of_speakers > 1)"
   ]
  },
  {
   "cell_type": "markdown",
   "metadata": {
    "colab_type": "text",
    "id": "ufHD4qX3ZVyn"
   },
   "source": [
    "# Code blocks - If, For, While"
   ]
  },
  {
   "cell_type": "code",
   "execution_count": 0,
   "metadata": {
    "colab": {
     "base_uri": "https://localhost:8080/",
     "height": 36
    },
    "colab_type": "code",
    "executionInfo": {
     "elapsed": 835,
     "status": "ok",
     "timestamp": 1548593097012,
     "user": {
      "displayName": "One Fourth Labs Student",
      "photoUrl": "",
      "userId": "07586129509304884691"
     },
     "user_tz": -330
    },
    "id": "sM4hQO8XVeFv",
    "outputId": "b7357edd-98e7-4b01-955e-e6a3a758da70"
   },
   "outputs": [
    {
     "name": "stdout",
     "output_type": "stream",
     "text": [
      "Printing this outside the block\n"
     ]
    }
   ],
   "source": [
    "if is_android == True:\n",
    "  print(name + ' supports Android')\n",
    "  print('Continuing to print inside the if block')\n",
    "print('Printing this outside the block')"
   ]
  },
  {
   "cell_type": "code",
   "execution_count": 0,
   "metadata": {
    "colab": {
     "base_uri": "https://localhost:8080/",
     "height": 113
    },
    "colab_type": "code",
    "executionInfo": {
     "elapsed": 766,
     "status": "ok",
     "timestamp": 1548593125778,
     "user": {
      "displayName": "One Fourth Labs Student",
      "photoUrl": "",
      "userId": "07586129509304884691"
     },
     "user_tz": -330
    },
    "id": "CKZaAZ0iVvT8",
    "outputId": "b58193f5-3d29-4cd6-af21-5ec9dd780d1d"
   },
   "outputs": [
    {
     "name": "stdout",
     "output_type": "stream",
     "text": [
      "0 0\n",
      "1 1\n",
      "2 4\n",
      "3 9\n",
      "4 16\n"
     ]
    }
   ],
   "source": [
    "for i in range(5):\n",
    "  print(i, i**2)"
   ]
  },
  {
   "cell_type": "code",
   "execution_count": 0,
   "metadata": {
    "colab": {},
    "colab_type": "code",
    "id": "LLeT548bV9YT"
   },
   "outputs": [],
   "source": [
    "range?"
   ]
  },
  {
   "cell_type": "code",
   "execution_count": 0,
   "metadata": {
    "colab": {
     "base_uri": "https://localhost:8080/",
     "height": 113
    },
    "colab_type": "code",
    "executionInfo": {
     "elapsed": 869,
     "status": "ok",
     "timestamp": 1548593220875,
     "user": {
      "displayName": "One Fourth Labs Student",
      "photoUrl": "",
      "userId": "07586129509304884691"
     },
     "user_tz": -330
    },
    "id": "ZPFWIgcsWA82",
    "outputId": "40162151-4be7-4a51-e63d-6ae45460e646"
   },
   "outputs": [
    {
     "name": "stdout",
     "output_type": "stream",
     "text": [
      "0 0\n",
      "1 1\n",
      "2 4\n",
      "3 9\n",
      "4 16\n"
     ]
    }
   ],
   "source": [
    "i = 0\n",
    "while i < 5:\n",
    "  print(i, i**2)\n",
    "  i += 1 # equivalent to i = i + 1"
   ]
  },
  {
   "cell_type": "markdown",
   "metadata": {
    "colab_type": "text",
    "id": "h7CFofgtZcz-"
   },
   "source": [
    "# Functions"
   ]
  },
  {
   "cell_type": "code",
   "execution_count": 0,
   "metadata": {
    "colab": {},
    "colab_type": "code",
    "id": "IgaKXk0eWO-N"
   },
   "outputs": [],
   "source": [
    "def print_squares(stop_val):\n",
    "  for i in range(stop_val):\n",
    "    print (i , i**2)"
   ]
  },
  {
   "cell_type": "code",
   "execution_count": 0,
   "metadata": {
    "colab": {
     "base_uri": "https://localhost:8080/",
     "height": 113
    },
    "colab_type": "code",
    "executionInfo": {
     "elapsed": 794,
     "status": "ok",
     "timestamp": 1548593268962,
     "user": {
      "displayName": "One Fourth Labs Student",
      "photoUrl": "",
      "userId": "07586129509304884691"
     },
     "user_tz": -330
    },
    "id": "OOqb6EWZWdcy",
    "outputId": "d85e9c16-01b5-4f1e-b528-6fef23c3b8c1"
   },
   "outputs": [
    {
     "name": "stdout",
     "output_type": "stream",
     "text": [
      "0 0\n",
      "1 1\n",
      "2 4\n",
      "3 9\n",
      "4 16\n"
     ]
    }
   ],
   "source": [
    "print_squares(5)"
   ]
  },
  {
   "cell_type": "code",
   "execution_count": 0,
   "metadata": {
    "colab": {
     "base_uri": "https://localhost:8080/",
     "height": 74
    },
    "colab_type": "code",
    "executionInfo": {
     "elapsed": 802,
     "status": "ok",
     "timestamp": 1548593276325,
     "user": {
      "displayName": "One Fourth Labs Student",
      "photoUrl": "",
      "userId": "07586129509304884691"
     },
     "user_tz": -330
    },
    "id": "dRyGB-cVWgVi",
    "outputId": "6368684b-4dc9-4365-befd-85d4fb84d2d1"
   },
   "outputs": [
    {
     "name": "stdout",
     "output_type": "stream",
     "text": [
      "0 0\n",
      "1 1\n",
      "2 4\n"
     ]
    }
   ],
   "source": [
    "print_squares(3)"
   ]
  },
  {
   "cell_type": "code",
   "execution_count": 0,
   "metadata": {
    "colab": {},
    "colab_type": "code",
    "id": "mOR_I24OWiIf"
   },
   "outputs": [],
   "source": [
    "def sum_of_squares(stop_val):\n",
    "  sum_ = 0\n",
    "  for i in range(stop_val):\n",
    "    sum_ += i ** 2\n",
    "  return sum_"
   ]
  },
  {
   "cell_type": "code",
   "execution_count": 0,
   "metadata": {
    "colab": {
     "base_uri": "https://localhost:8080/",
     "height": 36
    },
    "colab_type": "code",
    "executionInfo": {
     "elapsed": 796,
     "status": "ok",
     "timestamp": 1548593337906,
     "user": {
      "displayName": "One Fourth Labs Student",
      "photoUrl": "",
      "userId": "07586129509304884691"
     },
     "user_tz": -330
    },
    "id": "r1XbKgBcWtKF",
    "outputId": "983d8b27-79c3-4be3-cf07-8b7eeb09d537"
   },
   "outputs": [
    {
     "data": {
      "text/plain": [
       "30"
      ]
     },
     "execution_count": 26,
     "metadata": {
      "tags": []
     },
     "output_type": "execute_result"
    }
   ],
   "source": [
    "sum_of_squares(5)"
   ]
  },
  {
   "cell_type": "code",
   "execution_count": 0,
   "metadata": {
    "colab": {},
    "colab_type": "code",
    "id": "fGP1QkdrWxKu"
   },
   "outputs": [],
   "source": [
    "sum_5 = sum_of_squares(5)"
   ]
  },
  {
   "cell_type": "code",
   "execution_count": 0,
   "metadata": {
    "colab": {},
    "colab_type": "code",
    "id": "KshU4IgCW1K4"
   },
   "outputs": [],
   "source": [
    "def print_squares_with_startval(stop_val, start_val = 0):\n",
    "  \"\"\"Prints the squares of numbers starting from start_val (inclusive) and ending with stop_val (exclusive)\"\"\"\n",
    "  for i in range(start_val, stop_val):\n",
    "    print (i , i**2)"
   ]
  },
  {
   "cell_type": "code",
   "execution_count": 0,
   "metadata": {
    "colab": {
     "base_uri": "https://localhost:8080/",
     "height": 74
    },
    "colab_type": "code",
    "executionInfo": {
     "elapsed": 855,
     "status": "ok",
     "timestamp": 1548593497492,
     "user": {
      "displayName": "One Fourth Labs Student",
      "photoUrl": "",
      "userId": "07586129509304884691"
     },
     "user_tz": -330
    },
    "id": "0VBEHuSEXHE1",
    "outputId": "ac6eaa1a-2ff8-42d7-b158-3b705b4e298c"
   },
   "outputs": [
    {
     "name": "stdout",
     "output_type": "stream",
     "text": [
      "2 4\n",
      "3 9\n",
      "4 16\n"
     ]
    }
   ],
   "source": [
    "print_squares_with_startval(5, 2)"
   ]
  },
  {
   "cell_type": "code",
   "execution_count": 0,
   "metadata": {
    "colab": {},
    "colab_type": "code",
    "id": "xtjv8eBSXJcU"
   },
   "outputs": [],
   "source": [
    "print_squares_with_startval?"
   ]
  },
  {
   "cell_type": "markdown",
   "metadata": {
    "colab_type": "text",
    "id": "NEUT8F6QamzU"
   },
   "source": [
    "# Lists"
   ]
  },
  {
   "cell_type": "code",
   "execution_count": 0,
   "metadata": {
    "colab": {},
    "colab_type": "code",
    "id": "w0YdzytNany6"
   },
   "outputs": [],
   "source": [
    "my_phone = [name, is_android, screen_size]"
   ]
  },
  {
   "cell_type": "code",
   "execution_count": 0,
   "metadata": {
    "colab": {
     "base_uri": "https://localhost:8080/",
     "height": 36
    },
    "colab_type": "code",
    "executionInfo": {
     "elapsed": 810,
     "status": "ok",
     "timestamp": 1548594389475,
     "user": {
      "displayName": "One Fourth Labs Student",
      "photoUrl": "",
      "userId": "07586129509304884691"
     },
     "user_tz": -330
    },
    "id": "znFZcOHwavn5",
    "outputId": "df6cd9e5-c939-405a-f37c-ccf53ea2acb7"
   },
   "outputs": [
    {
     "data": {
      "text/plain": [
       "list"
      ]
     },
     "execution_count": 38,
     "metadata": {
      "tags": []
     },
     "output_type": "execute_result"
    }
   ],
   "source": [
    "type(my_phone)"
   ]
  },
  {
   "cell_type": "code",
   "execution_count": 0,
   "metadata": {
    "colab": {
     "base_uri": "https://localhost:8080/",
     "height": 36
    },
    "colab_type": "code",
    "executionInfo": {
     "elapsed": 1015,
     "status": "ok",
     "timestamp": 1548594395341,
     "user": {
      "displayName": "One Fourth Labs Student",
      "photoUrl": "",
      "userId": "07586129509304884691"
     },
     "user_tz": -330
    },
    "id": "s3hC7aNoax5a",
    "outputId": "7616097c-e6db-4970-b39a-70680570e247"
   },
   "outputs": [
    {
     "name": "stdout",
     "output_type": "stream",
     "text": [
      "['iPhone 5s', False, 4.3]\n"
     ]
    }
   ],
   "source": [
    "print(my_phone)"
   ]
  },
  {
   "cell_type": "code",
   "execution_count": 0,
   "metadata": {
    "colab": {
     "base_uri": "https://localhost:8080/",
     "height": 36
    },
    "colab_type": "code",
    "executionInfo": {
     "elapsed": 617,
     "status": "ok",
     "timestamp": 1548594455123,
     "user": {
      "displayName": "One Fourth Labs Student",
      "photoUrl": "",
      "userId": "07586129509304884691"
     },
     "user_tz": -330
    },
    "id": "0DEZsBFPazSA",
    "outputId": "e494b9d6-cd19-4244-c12f-33585e631a8c"
   },
   "outputs": [
    {
     "data": {
      "text/plain": [
       "4.3"
      ]
     },
     "execution_count": 44,
     "metadata": {
      "tags": []
     },
     "output_type": "execute_result"
    }
   ],
   "source": [
    "my_phone[2]"
   ]
  },
  {
   "cell_type": "code",
   "execution_count": 0,
   "metadata": {
    "colab": {
     "base_uri": "https://localhost:8080/",
     "height": 36
    },
    "colab_type": "code",
    "executionInfo": {
     "elapsed": 773,
     "status": "ok",
     "timestamp": 1548594424917,
     "user": {
      "displayName": "One Fourth Labs Student",
      "photoUrl": "",
      "userId": "07586129509304884691"
     },
     "user_tz": -330
    },
    "id": "eBK65TAoa4fK",
    "outputId": "7aa7830a-002b-4838-c24f-3ab33c39f1cd"
   },
   "outputs": [
    {
     "data": {
      "text/plain": [
       "str"
      ]
     },
     "execution_count": 41,
     "metadata": {
      "tags": []
     },
     "output_type": "execute_result"
    }
   ],
   "source": [
    "type(my_phone[0])"
   ]
  },
  {
   "cell_type": "code",
   "execution_count": 0,
   "metadata": {
    "colab": {
     "base_uri": "https://localhost:8080/",
     "height": 36
    },
    "colab_type": "code",
    "executionInfo": {
     "elapsed": 856,
     "status": "ok",
     "timestamp": 1548594461058,
     "user": {
      "displayName": "One Fourth Labs Student",
      "photoUrl": "",
      "userId": "07586129509304884691"
     },
     "user_tz": -330
    },
    "id": "R5MUjfqLa6jq",
    "outputId": "d9d7c414-03b5-4aa3-9816-3dd300781c4d"
   },
   "outputs": [
    {
     "data": {
      "text/plain": [
       "[False, 4.3]"
      ]
     },
     "execution_count": 45,
     "metadata": {
      "tags": []
     },
     "output_type": "execute_result"
    }
   ],
   "source": [
    "my_phone[1:3]"
   ]
  },
  {
   "cell_type": "code",
   "execution_count": 0,
   "metadata": {
    "colab": {
     "base_uri": "https://localhost:8080/",
     "height": 36
    },
    "colab_type": "code",
    "executionInfo": {
     "elapsed": 709,
     "status": "ok",
     "timestamp": 1548594480989,
     "user": {
      "displayName": "One Fourth Labs Student",
      "photoUrl": "",
      "userId": "07586129509304884691"
     },
     "user_tz": -330
    },
    "id": "DJxUga5Ka-WG",
    "outputId": "9154234f-17d7-453e-db51-055b5db5eaf6"
   },
   "outputs": [
    {
     "name": "stdout",
     "output_type": "stream",
     "text": [
      "['iPhone 5s', False, 4.3]\n"
     ]
    }
   ],
   "source": [
    "my_dads_phone = my_phone\n",
    "print(my_dads_phone)"
   ]
  },
  {
   "cell_type": "code",
   "execution_count": 0,
   "metadata": {
    "colab": {},
    "colab_type": "code",
    "id": "2MG34sObbIQU"
   },
   "outputs": [],
   "source": [
    "my_phone[2] = 4"
   ]
  },
  {
   "cell_type": "code",
   "execution_count": 0,
   "metadata": {
    "colab": {
     "base_uri": "https://localhost:8080/",
     "height": 36
    },
    "colab_type": "code",
    "executionInfo": {
     "elapsed": 900,
     "status": "ok",
     "timestamp": 1548594509540,
     "user": {
      "displayName": "One Fourth Labs Student",
      "photoUrl": "",
      "userId": "07586129509304884691"
     },
     "user_tz": -330
    },
    "id": "Z3YndaQWbNyh",
    "outputId": "66be1623-f473-4cf9-e31b-634867cbefb7"
   },
   "outputs": [
    {
     "name": "stdout",
     "output_type": "stream",
     "text": [
      "['iPhone 5s', False, 4]\n"
     ]
    }
   ],
   "source": [
    "print(my_phone)"
   ]
  },
  {
   "cell_type": "code",
   "execution_count": 0,
   "metadata": {
    "colab": {
     "base_uri": "https://localhost:8080/",
     "height": 36
    },
    "colab_type": "code",
    "executionInfo": {
     "elapsed": 745,
     "status": "ok",
     "timestamp": 1548594520017,
     "user": {
      "displayName": "One Fourth Labs Student",
      "photoUrl": "",
      "userId": "07586129509304884691"
     },
     "user_tz": -330
    },
    "id": "Ro-yczbAbPLx",
    "outputId": "a88cc62a-98b2-48ca-a250-cd2fdcb7480e"
   },
   "outputs": [
    {
     "name": "stdout",
     "output_type": "stream",
     "text": [
      "['iPhone 5s', False, 4]\n"
     ]
    }
   ],
   "source": [
    "print(my_dads_phone)"
   ]
  },
  {
   "cell_type": "code",
   "execution_count": 0,
   "metadata": {
    "colab": {},
    "colab_type": "code",
    "id": "jZX5xgGQbRxl"
   },
   "outputs": [],
   "source": [
    "my_dads_phone = list(my_phone)\n",
    "# my_dads_phone = my_phone[:]"
   ]
  },
  {
   "cell_type": "code",
   "execution_count": 0,
   "metadata": {
    "colab": {},
    "colab_type": "code",
    "id": "hLeiUELGbfnR"
   },
   "outputs": [],
   "source": [
    "my_phone[2] = 4.3"
   ]
  },
  {
   "cell_type": "code",
   "execution_count": 0,
   "metadata": {
    "colab": {
     "base_uri": "https://localhost:8080/",
     "height": 55
    },
    "colab_type": "code",
    "executionInfo": {
     "elapsed": 802,
     "status": "ok",
     "timestamp": 1548594595401,
     "user": {
      "displayName": "One Fourth Labs Student",
      "photoUrl": "",
      "userId": "07586129509304884691"
     },
     "user_tz": -330
    },
    "id": "NcnLRx74bhvn",
    "outputId": "00d918a4-99d0-4d67-f1b5-ed711bf55fd4"
   },
   "outputs": [
    {
     "name": "stdout",
     "output_type": "stream",
     "text": [
      "['iPhone 5s', False, 4.3]\n",
      "['iPhone 5s', False, 4]\n"
     ]
    }
   ],
   "source": [
    "print(my_phone)\n",
    "print(my_dads_phone)"
   ]
  },
  {
   "cell_type": "code",
   "execution_count": 0,
   "metadata": {
    "colab": {
     "base_uri": "https://localhost:8080/",
     "height": 36
    },
    "colab_type": "code",
    "executionInfo": {
     "elapsed": 722,
     "status": "ok",
     "timestamp": 1548594609122,
     "user": {
      "displayName": "One Fourth Labs Student",
      "photoUrl": "",
      "userId": "07586129509304884691"
     },
     "user_tz": -330
    },
    "id": "K1yoXlp-bkLK",
    "outputId": "85940ded-c42c-4e58-cb66-49ad1b6fac3c"
   },
   "outputs": [
    {
     "data": {
      "text/plain": [
       "3"
      ]
     },
     "execution_count": 53,
     "metadata": {
      "tags": []
     },
     "output_type": "execute_result"
    }
   ],
   "source": [
    "len(my_phone)"
   ]
  },
  {
   "cell_type": "code",
   "execution_count": 0,
   "metadata": {
    "colab": {},
    "colab_type": "code",
    "id": "V3NvYANKbnh_"
   },
   "outputs": [],
   "source": [
    "len?"
   ]
  },
  {
   "cell_type": "code",
   "execution_count": 0,
   "metadata": {
    "colab": {},
    "colab_type": "code",
    "id": "GqBPaAS5bpw6"
   },
   "outputs": [],
   "source": [
    "my_phone.append('3G')"
   ]
  },
  {
   "cell_type": "code",
   "execution_count": 0,
   "metadata": {
    "colab": {
     "base_uri": "https://localhost:8080/",
     "height": 36
    },
    "colab_type": "code",
    "executionInfo": {
     "elapsed": 1039,
     "status": "ok",
     "timestamp": 1548594647684,
     "user": {
      "displayName": "One Fourth Labs Student",
      "photoUrl": "",
      "userId": "07586129509304884691"
     },
     "user_tz": -330
    },
    "id": "0LY0vJlFbv61",
    "outputId": "73166b8e-b4d3-43e5-b452-0a04df59c582"
   },
   "outputs": [
    {
     "name": "stdout",
     "output_type": "stream",
     "text": [
      "['iPhone 5s', False, 4.3, '3G']\n"
     ]
    }
   ],
   "source": [
    "print(my_phone)"
   ]
  },
  {
   "cell_type": "code",
   "execution_count": 0,
   "metadata": {
    "colab": {
     "base_uri": "https://localhost:8080/",
     "height": 36
    },
    "colab_type": "code",
    "executionInfo": {
     "elapsed": 783,
     "status": "ok",
     "timestamp": 1548594654748,
     "user": {
      "displayName": "One Fourth Labs Student",
      "photoUrl": "",
      "userId": "07586129509304884691"
     },
     "user_tz": -330
    },
    "id": "ELv3B2lcbw4K",
    "outputId": "6140b184-cd46-468f-cc2f-a82e47a81a9a"
   },
   "outputs": [
    {
     "data": {
      "text/plain": [
       "4"
      ]
     },
     "execution_count": 57,
     "metadata": {
      "tags": []
     },
     "output_type": "execute_result"
    }
   ],
   "source": [
    "len(my_phone)"
   ]
  },
  {
   "cell_type": "code",
   "execution_count": 0,
   "metadata": {
    "colab": {},
    "colab_type": "code",
    "id": "QZlmh30mbyqn"
   },
   "outputs": [],
   "source": [
    "iphone5s_some_prefs = ['single_sim', 35000]"
   ]
  },
  {
   "cell_type": "code",
   "execution_count": 0,
   "metadata": {
    "colab": {},
    "colab_type": "code",
    "id": "kKuLGThFb6I8"
   },
   "outputs": [],
   "source": [
    "my_phone = my_phone + iphone5s_some_prefs"
   ]
  },
  {
   "cell_type": "code",
   "execution_count": 0,
   "metadata": {
    "colab": {
     "base_uri": "https://localhost:8080/",
     "height": 36
    },
    "colab_type": "code",
    "executionInfo": {
     "elapsed": 767,
     "status": "ok",
     "timestamp": 1548594711469,
     "user": {
      "displayName": "One Fourth Labs Student",
      "photoUrl": "",
      "userId": "07586129509304884691"
     },
     "user_tz": -330
    },
    "id": "0Lx0f606b_FY",
    "outputId": "bdcf9064-0e38-4236-be01-09872c6009fe"
   },
   "outputs": [
    {
     "name": "stdout",
     "output_type": "stream",
     "text": [
      "['iPhone 5s', False, 4.3, '3G', 'single_sim', 35000]\n"
     ]
    }
   ],
   "source": [
    "print(my_phone)"
   ]
  },
  {
   "cell_type": "code",
   "execution_count": 0,
   "metadata": {
    "colab": {
     "base_uri": "https://localhost:8080/",
     "height": 132
    },
    "colab_type": "code",
    "executionInfo": {
     "elapsed": 734,
     "status": "ok",
     "timestamp": 1548594751987,
     "user": {
      "displayName": "One Fourth Labs Student",
      "photoUrl": "",
      "userId": "07586129509304884691"
     },
     "user_tz": -330
    },
    "id": "6zNovNkZcAhG",
    "outputId": "456f995b-bc9a-4222-ce8d-cae16c81be62"
   },
   "outputs": [
    {
     "name": "stdout",
     "output_type": "stream",
     "text": [
      "iPhone 5s\n",
      "False\n",
      "4.3\n",
      "3G\n",
      "single_sim\n",
      "35000\n"
     ]
    }
   ],
   "source": [
    "for data in my_phone:\n",
    "  print(data)"
   ]
  },
  {
   "cell_type": "code",
   "execution_count": 0,
   "metadata": {
    "colab": {
     "base_uri": "https://localhost:8080/",
     "height": 36
    },
    "colab_type": "code",
    "executionInfo": {
     "elapsed": 950,
     "status": "ok",
     "timestamp": 1548594765758,
     "user": {
      "displayName": "One Fourth Labs Student",
      "photoUrl": "",
      "userId": "07586129509304884691"
     },
     "user_tz": -330
    },
    "id": "gJ2vgUV3cKaH",
    "outputId": "01d49454-6ddb-44db-da8c-35716045eae9"
   },
   "outputs": [
    {
     "data": {
      "text/plain": [
       "range(0, 5)"
      ]
     },
     "execution_count": 62,
     "metadata": {
      "tags": []
     },
     "output_type": "execute_result"
    }
   ],
   "source": [
    "range(5)"
   ]
  },
  {
   "cell_type": "code",
   "execution_count": 0,
   "metadata": {
    "colab": {
     "base_uri": "https://localhost:8080/",
     "height": 36
    },
    "colab_type": "code",
    "executionInfo": {
     "elapsed": 773,
     "status": "ok",
     "timestamp": 1548594778079,
     "user": {
      "displayName": "One Fourth Labs Student",
      "photoUrl": "",
      "userId": "07586129509304884691"
     },
     "user_tz": -330
    },
    "id": "HD8Dv1vWcNty",
    "outputId": "5915aab7-2a9f-4c22-9127-fd0b9a71422b"
   },
   "outputs": [
    {
     "name": "stdout",
     "output_type": "stream",
     "text": [
      "[0, 1, 2, 3, 4]\n"
     ]
    }
   ],
   "source": [
    "print(list(range(5)))"
   ]
  },
  {
   "cell_type": "code",
   "execution_count": 0,
   "metadata": {
    "colab": {
     "base_uri": "https://localhost:8080/",
     "height": 36
    },
    "colab_type": "code",
    "executionInfo": {
     "elapsed": 757,
     "status": "ok",
     "timestamp": 1548594810851,
     "user": {
      "displayName": "One Fourth Labs Student",
      "photoUrl": "",
      "userId": "07586129509304884691"
     },
     "user_tz": -330
    },
    "id": "9mX05ylFcQxE",
    "outputId": "2a512390-30ac-4fe5-b99d-8f448f45dc8c"
   },
   "outputs": [
    {
     "name": "stdout",
     "output_type": "stream",
     "text": [
      "[0, 1, 2, 3, 4]\n"
     ]
    }
   ],
   "source": [
    "a = list(range(5))\n",
    "print(a)"
   ]
  },
  {
   "cell_type": "code",
   "execution_count": 0,
   "metadata": {
    "colab": {},
    "colab_type": "code",
    "id": "uqKrTubAcYxd"
   },
   "outputs": [],
   "source": [
    "b = list(map(lambda x: x**2, a))"
   ]
  },
  {
   "cell_type": "code",
   "execution_count": 0,
   "metadata": {
    "colab": {
     "base_uri": "https://localhost:8080/",
     "height": 36
    },
    "colab_type": "code",
    "executionInfo": {
     "elapsed": 756,
     "status": "ok",
     "timestamp": 1548594864759,
     "user": {
      "displayName": "One Fourth Labs Student",
      "photoUrl": "",
      "userId": "07586129509304884691"
     },
     "user_tz": -330
    },
    "id": "ApS_bIJGck9c",
    "outputId": "9c2473b6-6145-4552-8f06-3e8fffc2a32a"
   },
   "outputs": [
    {
     "name": "stdout",
     "output_type": "stream",
     "text": [
      "[0, 1, 4, 9, 16]\n"
     ]
    }
   ],
   "source": [
    "print(b)"
   ]
  },
  {
   "cell_type": "code",
   "execution_count": 0,
   "metadata": {
    "colab": {
     "base_uri": "https://localhost:8080/",
     "height": 36
    },
    "colab_type": "code",
    "executionInfo": {
     "elapsed": 742,
     "status": "ok",
     "timestamp": 1548594921956,
     "user": {
      "displayName": "One Fourth Labs Student",
      "photoUrl": "",
      "userId": "07586129509304884691"
     },
     "user_tz": -330
    },
    "id": "553AMMo9cl8L",
    "outputId": "78b640ff-9f48-414a-8632-e02299bf62f7"
   },
   "outputs": [
    {
     "name": "stdout",
     "output_type": "stream",
     "text": [
      "[0, 4, 16]\n"
     ]
    }
   ],
   "source": [
    "c = list(filter(lambda x: x % 2 == 0, b))\n",
    "print(c)"
   ]
  },
  {
   "cell_type": "code",
   "execution_count": 0,
   "metadata": {
    "colab": {
     "base_uri": "https://localhost:8080/",
     "height": 55
    },
    "colab_type": "code",
    "executionInfo": {
     "elapsed": 581,
     "status": "ok",
     "timestamp": 1548596498885,
     "user": {
      "displayName": "One Fourth Labs Student",
      "photoUrl": "",
      "userId": "07586129509304884691"
     },
     "user_tz": -330
    },
    "id": "yNMVIPhGcz54",
    "outputId": "61934484-a438-45a5-ea4d-45eb41b26aa7"
   },
   "outputs": [
    {
     "name": "stdout",
     "output_type": "stream",
     "text": [
      "['iPhone 5s', False, 4.3, '3G', 'single_sim', 35000]\n"
     ]
    },
    {
     "data": {
      "text/plain": [
       "list"
      ]
     },
     "execution_count": 68,
     "metadata": {
      "tags": []
     },
     "output_type": "execute_result"
    }
   ],
   "source": [
    "print(my_phone)\n",
    "type(my_phone)"
   ]
  },
  {
   "cell_type": "markdown",
   "metadata": {
    "colab_type": "text",
    "id": "iXIryw_wkSep"
   },
   "source": [
    "# Tuples, Sets, and Dicts"
   ]
  },
  {
   "cell_type": "code",
   "execution_count": 0,
   "metadata": {
    "colab": {
     "base_uri": "https://localhost:8080/",
     "height": 55
    },
    "colab_type": "code",
    "executionInfo": {
     "elapsed": 731,
     "status": "ok",
     "timestamp": 1548596535024,
     "user": {
      "displayName": "One Fourth Labs Student",
      "photoUrl": "",
      "userId": "07586129509304884691"
     },
     "user_tz": -330
    },
    "id": "zTEUhr5ii07E",
    "outputId": "cc05532c-ff21-4331-d56f-39d1c5d4674b"
   },
   "outputs": [
    {
     "name": "stdout",
     "output_type": "stream",
     "text": [
      "('iPhone 5s', False, 4.3)\n"
     ]
    },
    {
     "data": {
      "text/plain": [
       "tuple"
      ]
     },
     "execution_count": 69,
     "metadata": {
      "tags": []
     },
     "output_type": "execute_result"
    }
   ],
   "source": [
    "my_phone_tuple = ('iPhone 5s', False, 4.3)\n",
    "print(my_phone_tuple)\n",
    "type(my_phone_tuple)"
   ]
  },
  {
   "cell_type": "code",
   "execution_count": 0,
   "metadata": {
    "colab": {
     "base_uri": "https://localhost:8080/",
     "height": 36
    },
    "colab_type": "code",
    "executionInfo": {
     "elapsed": 614,
     "status": "ok",
     "timestamp": 1548596558444,
     "user": {
      "displayName": "One Fourth Labs Student",
      "photoUrl": "",
      "userId": "07586129509304884691"
     },
     "user_tz": -330
    },
    "id": "DiFafO6Ti9uB",
    "outputId": "a3cfc002-0c86-4001-c443-e7ec86bd1e37"
   },
   "outputs": [
    {
     "data": {
      "text/plain": [
       "('iPhone 5s', False)"
      ]
     },
     "execution_count": 71,
     "metadata": {
      "tags": []
     },
     "output_type": "execute_result"
    }
   ],
   "source": [
    "my_phone_tuple[0:2]"
   ]
  },
  {
   "cell_type": "code",
   "execution_count": 0,
   "metadata": {
    "colab": {
     "base_uri": "https://localhost:8080/",
     "height": 74
    },
    "colab_type": "code",
    "executionInfo": {
     "elapsed": 803,
     "status": "ok",
     "timestamp": 1548596567561,
     "user": {
      "displayName": "One Fourth Labs Student",
      "photoUrl": "",
      "userId": "07586129509304884691"
     },
     "user_tz": -330
    },
    "id": "Cv0N8__3jCGl",
    "outputId": "0bef0735-7268-42d4-f847-3cd9709e8445"
   },
   "outputs": [
    {
     "name": "stdout",
     "output_type": "stream",
     "text": [
      "iPhone 5s\n",
      "False\n",
      "4.3\n"
     ]
    }
   ],
   "source": [
    "for data in my_phone_tuple:\n",
    "  print(data)"
   ]
  },
  {
   "cell_type": "code",
   "execution_count": 0,
   "metadata": {
    "colab": {
     "base_uri": "https://localhost:8080/",
     "height": 179
    },
    "colab_type": "code",
    "executionInfo": {
     "elapsed": 743,
     "status": "error",
     "timestamp": 1548596578000,
     "user": {
      "displayName": "One Fourth Labs Student",
      "photoUrl": "",
      "userId": "07586129509304884691"
     },
     "user_tz": -330
    },
    "id": "3ReasIC9jFps",
    "outputId": "8fec570d-d632-4a5a-8062-3135a8c5d529"
   },
   "outputs": [
    {
     "ename": "TypeError",
     "evalue": "ignored",
     "output_type": "error",
     "traceback": [
      "\u001b[0;31m---------------------------------------------------------------------------\u001b[0m",
      "\u001b[0;31mTypeError\u001b[0m                                 Traceback (most recent call last)",
      "\u001b[0;32m<ipython-input-73-01379ee61114>\u001b[0m in \u001b[0;36m<module>\u001b[0;34m()\u001b[0m\n\u001b[0;32m----> 1\u001b[0;31m \u001b[0mmy_phone_tuple\u001b[0m\u001b[0;34m[\u001b[0m\u001b[0;36m2\u001b[0m\u001b[0;34m]\u001b[0m \u001b[0;34m=\u001b[0m \u001b[0;36m4\u001b[0m\u001b[0;34m\u001b[0m\u001b[0;34m\u001b[0m\u001b[0m\n\u001b[0m",
      "\u001b[0;31mTypeError\u001b[0m: 'tuple' object does not support item assignment"
     ]
    }
   ],
   "source": [
    "my_phone_tuple[2] = 4"
   ]
  },
  {
   "cell_type": "code",
   "execution_count": 0,
   "metadata": {
    "colab": {},
    "colab_type": "code",
    "id": "Mrmaol0YjINt"
   },
   "outputs": [],
   "source": [
    "import time"
   ]
  },
  {
   "cell_type": "code",
   "execution_count": 0,
   "metadata": {
    "colab": {
     "base_uri": "https://localhost:8080/",
     "height": 36
    },
    "colab_type": "code",
    "executionInfo": {
     "elapsed": 736,
     "status": "ok",
     "timestamp": 1548596669194,
     "user": {
      "displayName": "One Fourth Labs Student",
      "photoUrl": "",
      "userId": "07586129509304884691"
     },
     "user_tz": -330
    },
    "id": "qnnhdMQFjZz9",
    "outputId": "4de5982a-09a3-41c6-ec4f-d39f58673c01"
   },
   "outputs": [
    {
     "name": "stdout",
     "output_type": "stream",
     "text": [
      "1548596668.6366014\n"
     ]
    }
   ],
   "source": [
    "tic = time.time()\n",
    "print(tic)"
   ]
  },
  {
   "cell_type": "code",
   "execution_count": 0,
   "metadata": {
    "colab": {},
    "colab_type": "code",
    "id": "caZRUKqcjeeR"
   },
   "outputs": [],
   "source": [
    "time.time?"
   ]
  },
  {
   "cell_type": "code",
   "execution_count": 0,
   "metadata": {
    "colab": {
     "base_uri": "https://localhost:8080/",
     "height": 36
    },
    "colab_type": "code",
    "executionInfo": {
     "elapsed": 735,
     "status": "ok",
     "timestamp": 1548596716965,
     "user": {
      "displayName": "One Fourth Labs Student",
      "photoUrl": "",
      "userId": "07586129509304884691"
     },
     "user_tz": -330
    },
    "id": "evmSlFJPjf2N",
    "outputId": "2c238780-35dd-4d13-f7be-3e26966abe41"
   },
   "outputs": [
    {
     "name": "stdout",
     "output_type": "stream",
     "text": [
      "Elapsed time in seconds 1.8596649169921875e-05\n"
     ]
    }
   ],
   "source": [
    "tic = time.time()\n",
    "# do something that takes some time that is to be measured\n",
    "toc = time.time()\n",
    "print('Elapsed time in seconds', toc - tic)"
   ]
  },
  {
   "cell_type": "code",
   "execution_count": 0,
   "metadata": {
    "colab": {
     "base_uri": "https://localhost:8080/",
     "height": 36
    },
    "colab_type": "code",
    "executionInfo": {
     "elapsed": 1172,
     "status": "ok",
     "timestamp": 1548596834656,
     "user": {
      "displayName": "One Fourth Labs Student",
      "photoUrl": "",
      "userId": "07586129509304884691"
     },
     "user_tz": -330
    },
    "id": "j-4qqt9ejqIq",
    "outputId": "f9bf09d0-5b53-4beb-b16e-bce5a4b793c7"
   },
   "outputs": [
    {
     "name": "stdout",
     "output_type": "stream",
     "text": [
      "Elapsed time in seconds 0.013445615768432617\n"
     ]
    }
   ],
   "source": [
    "my_list = list(range(1000000))\n",
    "tic = time.time()\n",
    "my_list_squared = map(lambda i: i**2, my_list)\n",
    "toc = time.time()\n",
    "print('Elapsed time in seconds', toc - tic)"
   ]
  },
  {
   "cell_type": "code",
   "execution_count": 0,
   "metadata": {
    "colab": {
     "base_uri": "https://localhost:8080/",
     "height": 36
    },
    "colab_type": "code",
    "executionInfo": {
     "elapsed": 1081,
     "status": "ok",
     "timestamp": 1548596838306,
     "user": {
      "displayName": "One Fourth Labs Student",
      "photoUrl": "",
      "userId": "07586129509304884691"
     },
     "user_tz": -330
    },
    "id": "6pu03oqbj5z4",
    "outputId": "957df397-b163-415b-80ef-e5f23652b220"
   },
   "outputs": [
    {
     "name": "stdout",
     "output_type": "stream",
     "text": [
      "Elapsed time in seconds 0.012768983840942383\n"
     ]
    }
   ],
   "source": [
    "my_tuple = tuple(range(1000000))\n",
    "tic = time.time()\n",
    "my_tuple_squared = map(lambda i: i**2, my_tuple)\n",
    "toc = time.time()\n",
    "print('Elapsed time in seconds', toc - tic)"
   ]
  },
  {
   "cell_type": "code",
   "execution_count": 0,
   "metadata": {
    "colab": {},
    "colab_type": "code",
    "id": "RO5cewUtkDk0"
   },
   "outputs": [],
   "source": [
    "my_set = set(my_phone)"
   ]
  },
  {
   "cell_type": "code",
   "execution_count": 0,
   "metadata": {
    "colab": {
     "base_uri": "https://localhost:8080/",
     "height": 36
    },
    "colab_type": "code",
    "executionInfo": {
     "elapsed": 731,
     "status": "ok",
     "timestamp": 1548596922238,
     "user": {
      "displayName": "One Fourth Labs Student",
      "photoUrl": "",
      "userId": "07586129509304884691"
     },
     "user_tz": -330
    },
    "id": "tHmF19zjka0p",
    "outputId": "4672cf64-d2d2-4a00-e35c-49ac06036d77"
   },
   "outputs": [
    {
     "name": "stdout",
     "output_type": "stream",
     "text": [
      "{False, 4.3, 'single_sim', '3G', 35000, 'iPhone 5s'}\n"
     ]
    }
   ],
   "source": [
    "print(my_set)"
   ]
  },
  {
   "cell_type": "code",
   "execution_count": 0,
   "metadata": {
    "colab": {},
    "colab_type": "code",
    "id": "zj0fCKqDkcQC"
   },
   "outputs": [],
   "source": [
    "my_phone.append(4.3)"
   ]
  },
  {
   "cell_type": "code",
   "execution_count": 0,
   "metadata": {
    "colab": {
     "base_uri": "https://localhost:8080/",
     "height": 36
    },
    "colab_type": "code",
    "executionInfo": {
     "elapsed": 732,
     "status": "ok",
     "timestamp": 1548596947785,
     "user": {
      "displayName": "One Fourth Labs Student",
      "photoUrl": "",
      "userId": "07586129509304884691"
     },
     "user_tz": -330
    },
    "id": "tTFDektFkhhj",
    "outputId": "358aa126-efd1-48a0-b0b4-a0a61e5b4d6b"
   },
   "outputs": [
    {
     "name": "stdout",
     "output_type": "stream",
     "text": [
      "['iPhone 5s', False, 4.3, '3G', 'single_sim', 35000, 4.3]\n"
     ]
    }
   ],
   "source": [
    "print(my_phone)"
   ]
  },
  {
   "cell_type": "code",
   "execution_count": 0,
   "metadata": {
    "colab": {},
    "colab_type": "code",
    "id": "zu54Dw4skifm"
   },
   "outputs": [],
   "source": [
    "my_set = set(my_phone)"
   ]
  },
  {
   "cell_type": "code",
   "execution_count": 0,
   "metadata": {
    "colab": {
     "base_uri": "https://localhost:8080/",
     "height": 36
    },
    "colab_type": "code",
    "executionInfo": {
     "elapsed": 896,
     "status": "ok",
     "timestamp": 1548596970637,
     "user": {
      "displayName": "One Fourth Labs Student",
      "photoUrl": "",
      "userId": "07586129509304884691"
     },
     "user_tz": -330
    },
    "id": "dScJWQKhklqS",
    "outputId": "6fb6f4f3-73a5-47d8-e784-774237789500"
   },
   "outputs": [
    {
     "name": "stdout",
     "output_type": "stream",
     "text": [
      "{False, 4.3, 'single_sim', '3G', 35000, 'iPhone 5s'}\n"
     ]
    }
   ],
   "source": [
    "print(my_set)"
   ]
  },
  {
   "cell_type": "code",
   "execution_count": 0,
   "metadata": {
    "colab": {
     "base_uri": "https://localhost:8080/",
     "height": 93
    },
    "colab_type": "code",
    "executionInfo": {
     "elapsed": 754,
     "status": "ok",
     "timestamp": 1548597090900,
     "user": {
      "displayName": "One Fourth Labs Student",
      "photoUrl": "",
      "userId": "07586129509304884691"
     },
     "user_tz": -330
    },
    "id": "HPag6Cr3kr_I",
    "outputId": "f5c01db7-c3b8-4a32-921a-879d25653d56"
   },
   "outputs": [
    {
     "name": "stdout",
     "output_type": "stream",
     "text": [
      "True\n",
      "True\n",
      "False\n",
      "Elapsed time 0.018808364868164062\n"
     ]
    }
   ],
   "source": [
    "my_list = list(range(1000000))\n",
    "tic = time.time()\n",
    "print(98731 in my_list)\n",
    "print(131591 in my_list)\n",
    "print(1111111111 in my_list)\n",
    "toc = time.time()\n",
    "print('Elapsed time', toc - tic)"
   ]
  },
  {
   "cell_type": "code",
   "execution_count": 0,
   "metadata": {
    "colab": {
     "base_uri": "https://localhost:8080/",
     "height": 93
    },
    "colab_type": "code",
    "executionInfo": {
     "elapsed": 1003,
     "status": "ok",
     "timestamp": 1548597112598,
     "user": {
      "displayName": "One Fourth Labs Student",
      "photoUrl": "",
      "userId": "07586129509304884691"
     },
     "user_tz": -330
    },
    "id": "oGPTjV3xlFam",
    "outputId": "cc3bc60c-1cd9-4060-b217-cbcd2e4ce673"
   },
   "outputs": [
    {
     "name": "stdout",
     "output_type": "stream",
     "text": [
      "True\n",
      "True\n",
      "False\n",
      "Elapsed time 0.0013599395751953125\n"
     ]
    }
   ],
   "source": [
    "my_set = set(range(1000000))\n",
    "tic = time.time()\n",
    "print(98731 in my_set)\n",
    "print(131591 in my_set)\n",
    "print(1111111111 in my_set)\n",
    "toc = time.time()\n",
    "print('Elapsed time', toc - tic)"
   ]
  },
  {
   "cell_type": "code",
   "execution_count": 0,
   "metadata": {
    "colab": {},
    "colab_type": "code",
    "id": "f4gFVlIPlKqY"
   },
   "outputs": [],
   "source": [
    "my_phone_dict = {}"
   ]
  },
  {
   "cell_type": "code",
   "execution_count": 0,
   "metadata": {
    "colab": {
     "base_uri": "https://localhost:8080/",
     "height": 36
    },
    "colab_type": "code",
    "executionInfo": {
     "elapsed": 749,
     "status": "ok",
     "timestamp": 1548597156962,
     "user": {
      "displayName": "One Fourth Labs Student",
      "photoUrl": "",
      "userId": "07586129509304884691"
     },
     "user_tz": -330
    },
    "id": "rR7Wuj-plUUj",
    "outputId": "aa6da9fe-aa2c-4b83-fb42-11c2f5a2399c"
   },
   "outputs": [
    {
     "data": {
      "text/plain": [
       "dict"
      ]
     },
     "execution_count": 93,
     "metadata": {
      "tags": []
     },
     "output_type": "execute_result"
    }
   ],
   "source": [
    "type(my_phone_dict)"
   ]
  },
  {
   "cell_type": "code",
   "execution_count": 0,
   "metadata": {
    "colab": {},
    "colab_type": "code",
    "id": "6lOSqt7AlVjo"
   },
   "outputs": [],
   "source": [
    "my_phone_dict['name'] = 'iPhone 5s'\n",
    "my_phone_dict['isAndroid'] = False\n",
    "my_phone_dict['screenSize'] = 4.3"
   ]
  },
  {
   "cell_type": "code",
   "execution_count": 0,
   "metadata": {
    "colab": {
     "base_uri": "https://localhost:8080/",
     "height": 36
    },
    "colab_type": "code",
    "executionInfo": {
     "elapsed": 782,
     "status": "ok",
     "timestamp": 1548597210495,
     "user": {
      "displayName": "One Fourth Labs Student",
      "photoUrl": "",
      "userId": "07586129509304884691"
     },
     "user_tz": -330
    },
    "id": "SkH6EGBblg9V",
    "outputId": "75321dc6-dba9-46b6-a2d0-66923c72e4a3"
   },
   "outputs": [
    {
     "name": "stdout",
     "output_type": "stream",
     "text": [
      "{'name': 'iPhone 5s', 'isAndroid': False, 'screenSize': 4.3}\n"
     ]
    }
   ],
   "source": [
    "print(my_phone_dict)"
   ]
  },
  {
   "cell_type": "code",
   "execution_count": 0,
   "metadata": {
    "colab": {
     "base_uri": "https://localhost:8080/",
     "height": 36
    },
    "colab_type": "code",
    "executionInfo": {
     "elapsed": 853,
     "status": "ok",
     "timestamp": 1548597223189,
     "user": {
      "displayName": "One Fourth Labs Student",
      "photoUrl": "",
      "userId": "07586129509304884691"
     },
     "user_tz": -330
    },
    "id": "T9z8HizClim9",
    "outputId": "eb860244-ad37-4123-97a2-ebb00d11fab3"
   },
   "outputs": [
    {
     "data": {
      "text/plain": [
       "'iPhone 5s'"
      ]
     },
     "execution_count": 96,
     "metadata": {
      "tags": []
     },
     "output_type": "execute_result"
    }
   ],
   "source": [
    "my_phone_dict['name']"
   ]
  },
  {
   "cell_type": "code",
   "execution_count": 0,
   "metadata": {
    "colab": {
     "base_uri": "https://localhost:8080/",
     "height": 36
    },
    "colab_type": "code",
    "executionInfo": {
     "elapsed": 964,
     "status": "ok",
     "timestamp": 1548597250308,
     "user": {
      "displayName": "One Fourth Labs Student",
      "photoUrl": "",
      "userId": "07586129509304884691"
     },
     "user_tz": -330
    },
    "id": "7pHwVu93llst",
    "outputId": "c18017da-da0f-4016-a701-19b6e0cd78ab"
   },
   "outputs": [
    {
     "name": "stdout",
     "output_type": "stream",
     "text": [
      "dict_keys(['name', 'isAndroid', 'screenSize'])\n"
     ]
    }
   ],
   "source": [
    "print(my_phone_dict.keys())"
   ]
  },
  {
   "cell_type": "code",
   "execution_count": 0,
   "metadata": {
    "colab": {
     "base_uri": "https://localhost:8080/",
     "height": 36
    },
    "colab_type": "code",
    "executionInfo": {
     "elapsed": 726,
     "status": "ok",
     "timestamp": 1548597264082,
     "user": {
      "displayName": "One Fourth Labs Student",
      "photoUrl": "",
      "userId": "07586129509304884691"
     },
     "user_tz": -330
    },
    "id": "ogBrVfpHlsSc",
    "outputId": "7f701b7e-e985-4ac8-dda7-30e5b33b8850"
   },
   "outputs": [
    {
     "name": "stdout",
     "output_type": "stream",
     "text": [
      "dict_values(['iPhone 5s', False, 4.3])\n"
     ]
    }
   ],
   "source": [
    "print(my_phone_dict.values())"
   ]
  },
  {
   "cell_type": "code",
   "execution_count": 0,
   "metadata": {
    "colab": {
     "base_uri": "https://localhost:8080/",
     "height": 36
    },
    "colab_type": "code",
    "executionInfo": {
     "elapsed": 695,
     "status": "ok",
     "timestamp": 1548597272980,
     "user": {
      "displayName": "One Fourth Labs Student",
      "photoUrl": "",
      "userId": "07586129509304884691"
     },
     "user_tz": -330
    },
    "id": "HpK08O1alvtd",
    "outputId": "39f5087a-1c86-4df2-911c-165408f05a95"
   },
   "outputs": [
    {
     "name": "stdout",
     "output_type": "stream",
     "text": [
      "dict_items([('name', 'iPhone 5s'), ('isAndroid', False), ('screenSize', 4.3)])\n"
     ]
    }
   ],
   "source": [
    "print(my_phone_dict.items())"
   ]
  },
  {
   "cell_type": "code",
   "execution_count": 0,
   "metadata": {
    "colab": {
     "base_uri": "https://localhost:8080/",
     "height": 74
    },
    "colab_type": "code",
    "executionInfo": {
     "elapsed": 839,
     "status": "ok",
     "timestamp": 1548597305016,
     "user": {
      "displayName": "One Fourth Labs Student",
      "photoUrl": "",
      "userId": "07586129509304884691"
     },
     "user_tz": -330
    },
    "id": "-78yQjyilx4g",
    "outputId": "654a0fbe-e58c-4b2a-84fa-ab9c9b45a308"
   },
   "outputs": [
    {
     "name": "stdout",
     "output_type": "stream",
     "text": [
      "name : iPhone 5s\n",
      "isAndroid : False\n",
      "screenSize : 4.3\n"
     ]
    }
   ],
   "source": [
    "for key in my_phone_dict.keys():\n",
    "  print(key, ':', my_phone_dict[key])"
   ]
  },
  {
   "cell_type": "markdown",
   "metadata": {
    "colab_type": "text",
    "id": "4nvsLqecoOoP"
   },
   "source": [
    "# Python Packages"
   ]
  },
  {
   "cell_type": "code",
   "execution_count": 0,
   "metadata": {
    "colab": {},
    "colab_type": "code",
    "id": "eCkZm4lxoQJB"
   },
   "outputs": [],
   "source": [
    "import math"
   ]
  },
  {
   "cell_type": "code",
   "execution_count": 0,
   "metadata": {
    "colab": {
     "base_uri": "https://localhost:8080/",
     "height": 36
    },
    "colab_type": "code",
    "executionInfo": {
     "elapsed": 803,
     "status": "ok",
     "timestamp": 1548732170510,
     "user": {
      "displayName": "One Fourth Labs Student",
      "photoUrl": "",
      "userId": "07586129509304884691"
     },
     "user_tz": -330
    },
    "id": "lSiEHau3oV8S",
    "outputId": "f9c2160c-8b15-4a58-e197-ecde031b3685"
   },
   "outputs": [
    {
     "name": "stdout",
     "output_type": "stream",
     "text": [
      "10.0\n"
     ]
    }
   ],
   "source": [
    "a = math.sqrt(100)\n",
    "print(a)"
   ]
  },
  {
   "cell_type": "code",
   "execution_count": 0,
   "metadata": {
    "colab": {
     "base_uri": "https://localhost:8080/",
     "height": 36
    },
    "colab_type": "code",
    "executionInfo": {
     "elapsed": 807,
     "status": "ok",
     "timestamp": 1548732180758,
     "user": {
      "displayName": "One Fourth Labs Student",
      "photoUrl": "",
      "userId": "07586129509304884691"
     },
     "user_tz": -330
    },
    "id": "3yZAgHD1oX2H",
    "outputId": "7aff1eed-83dd-44fe-e86f-6f33fad8f6a7"
   },
   "outputs": [
    {
     "name": "stdout",
     "output_type": "stream",
     "text": [
      "10.0\n"
     ]
    }
   ],
   "source": [
    "a = math.pow(100, 0.5)\n",
    "print(a)"
   ]
  },
  {
   "cell_type": "code",
   "execution_count": 0,
   "metadata": {
    "colab": {
     "base_uri": "https://localhost:8080/",
     "height": 56
    },
    "colab_type": "code",
    "executionInfo": {
     "elapsed": 1127,
     "status": "ok",
     "timestamp": 1548732248934,
     "user": {
      "displayName": "One Fourth Labs Student",
      "photoUrl": "",
      "userId": "07586129509304884691"
     },
     "user_tz": -330
    },
    "id": "pdPODnnzoaWP",
    "outputId": "c4aff6aa-073b-4b03-9060-dc69e31a67a6"
   },
   "outputs": [
    {
     "name": "stdout",
     "output_type": "stream",
     "text": [
      "Factorial of 100 is 933262154439441526816992388562667004907159682643816214685929638952175999932299156089414639761565182862536979208272237582511852109168640000000000000000000000\n"
     ]
    }
   ],
   "source": [
    "x = 100\n",
    "y = 1\n",
    "for i in range(1, x):\n",
    "  y *= i\n",
    "print('Factorial of', x, 'is', y)"
   ]
  },
  {
   "cell_type": "code",
   "execution_count": 0,
   "metadata": {
    "colab": {},
    "colab_type": "code",
    "id": "2Wc0vvPxopEH"
   },
   "outputs": [],
   "source": [
    "y = math.factorial(x)"
   ]
  },
  {
   "cell_type": "code",
   "execution_count": 0,
   "metadata": {
    "colab": {},
    "colab_type": "code",
    "id": "M7amwM7YoxLv"
   },
   "outputs": [],
   "source": [
    "import math as m"
   ]
  },
  {
   "cell_type": "code",
   "execution_count": 0,
   "metadata": {
    "colab": {},
    "colab_type": "code",
    "id": "EPPb0q4xo0yX"
   },
   "outputs": [],
   "source": [
    "y = m.factorial(x)"
   ]
  },
  {
   "cell_type": "code",
   "execution_count": 0,
   "metadata": {
    "colab": {},
    "colab_type": "code",
    "id": "lyMXPcaeo2Aw"
   },
   "outputs": [],
   "source": [
    "from math import factorial"
   ]
  },
  {
   "cell_type": "code",
   "execution_count": 0,
   "metadata": {
    "colab": {},
    "colab_type": "code",
    "id": "azItJu7Ao5bb"
   },
   "outputs": [],
   "source": [
    "y = factorial(x)"
   ]
  },
  {
   "cell_type": "code",
   "execution_count": 0,
   "metadata": {
    "colab": {
     "base_uri": "https://localhost:8080/",
     "height": 55
    },
    "colab_type": "code",
    "executionInfo": {
     "elapsed": 855,
     "status": "ok",
     "timestamp": 1548732446019,
     "user": {
      "displayName": "One Fourth Labs Student",
      "photoUrl": "",
      "userId": "07586129509304884691"
     },
     "user_tz": -330
    },
    "id": "5YrGXzyYo6lb",
    "outputId": "624abc93-3f9b-45e5-e86a-5e0ac6d6e7a3"
   },
   "outputs": [
    {
     "name": "stdout",
     "output_type": "stream",
     "text": [
      "Elapsed time in secs with own function 0.0009882450103759766\n",
      "Elapsed time in secs with own function 0.0001125335693359375\n"
     ]
    }
   ],
   "source": [
    "vals = list(range(1, 100))\n",
    "tic = time.time()\n",
    "for x in vals:\n",
    "  y = 1\n",
    "  for i in range(1, x):\n",
    "    y *= i\n",
    "toc = time.time()\n",
    "print('Elapsed time in secs with own function', toc - tic)\n",
    "\n",
    "tic = time.time()\n",
    "for x in vals:\n",
    "  y = math.factorial(x)\n",
    "toc = time.time()\n",
    "print('Elapsed time in secs with own function', toc - tic)"
   ]
  },
  {
   "cell_type": "code",
   "execution_count": 0,
   "metadata": {
    "colab": {},
    "colab_type": "code",
    "id": "u1CRIBPtpP7S"
   },
   "outputs": [],
   "source": [
    "!echo 'def hello():' > my_first_module.py\n",
    "!echo '    print(\"hello, i am living in a different file!!!\")' >> my_first_module.py"
   ]
  },
  {
   "cell_type": "code",
   "execution_count": 0,
   "metadata": {
    "colab": {
     "base_uri": "https://localhost:8080/",
     "height": 55
    },
    "colab_type": "code",
    "executionInfo": {
     "elapsed": 2982,
     "status": "ok",
     "timestamp": 1548732587413,
     "user": {
      "displayName": "One Fourth Labs Student",
      "photoUrl": "",
      "userId": "07586129509304884691"
     },
     "user_tz": -330
    },
    "id": "3q0hPJ8IpwYX",
    "outputId": "e3ee6f82-58fd-4d16-acd0-e146668b5fd3"
   },
   "outputs": [
    {
     "name": "stdout",
     "output_type": "stream",
     "text": [
      "def hello():\n",
      "    print(\"hello, i am living in a different file!!!\")\n"
     ]
    }
   ],
   "source": [
    "!cat my_first_module.py"
   ]
  },
  {
   "cell_type": "code",
   "execution_count": 0,
   "metadata": {
    "colab": {},
    "colab_type": "code",
    "id": "6ItBO96rp1O0"
   },
   "outputs": [],
   "source": [
    "import my_first_module"
   ]
  },
  {
   "cell_type": "code",
   "execution_count": 0,
   "metadata": {
    "colab": {
     "base_uri": "https://localhost:8080/",
     "height": 36
    },
    "colab_type": "code",
    "executionInfo": {
     "elapsed": 764,
     "status": "ok",
     "timestamp": 1548732624160,
     "user": {
      "displayName": "One Fourth Labs Student",
      "photoUrl": "",
      "userId": "07586129509304884691"
     },
     "user_tz": -330
    },
    "id": "HAPgfIjMqEhz",
    "outputId": "34e85f2f-06ee-4ea0-b05c-ff7e8b2a33bb"
   },
   "outputs": [
    {
     "name": "stdout",
     "output_type": "stream",
     "text": [
      "hello, i am living in a different file!!!\n"
     ]
    }
   ],
   "source": [
    "my_first_module.hello()"
   ]
  },
  {
   "cell_type": "code",
   "execution_count": 0,
   "metadata": {
    "colab": {},
    "colab_type": "code",
    "id": "iiJNMrLGqGm0"
   },
   "outputs": [],
   "source": [
    "from my_first_module import hello"
   ]
  },
  {
   "cell_type": "code",
   "execution_count": 0,
   "metadata": {
    "colab": {
     "base_uri": "https://localhost:8080/",
     "height": 36
    },
    "colab_type": "code",
    "executionInfo": {
     "elapsed": 763,
     "status": "ok",
     "timestamp": 1548732637493,
     "user": {
      "displayName": "One Fourth Labs Student",
      "photoUrl": "",
      "userId": "07586129509304884691"
     },
     "user_tz": -330
    },
    "id": "t7idGE7-qJUV",
    "outputId": "3dc41eb3-fb90-4b2f-b5bb-d8c6b8e245cf"
   },
   "outputs": [
    {
     "name": "stdout",
     "output_type": "stream",
     "text": [
      "hello, i am living in a different file!!!\n"
     ]
    }
   ],
   "source": [
    "hello()"
   ]
  },
  {
   "cell_type": "markdown",
   "metadata": {
    "colab_type": "text",
    "id": "gU7QTkRy3SMz"
   },
   "source": [
    "# File handling"
   ]
  },
  {
   "cell_type": "code",
   "execution_count": 0,
   "metadata": {
    "colab": {
     "base_uri": "https://localhost:8080/",
     "height": 419
    },
    "colab_type": "code",
    "executionInfo": {
     "elapsed": 2715,
     "status": "ok",
     "timestamp": 1548736116275,
     "user": {
      "displayName": "One Fourth Labs Student",
      "photoUrl": "",
      "userId": "07586129509304884691"
     },
     "user_tz": -330
    },
    "id": "_CStPzCqqJ3G",
    "outputId": "7635ce87-317a-4839-a81f-6c21a5b23ef9"
   },
   "outputs": [
    {
     "name": "stdout",
     "output_type": "stream",
     "text": [
      "--2019-01-29 04:28:34--  https://www.dropbox.com/s/w94odi4aq1k44lf/mobile_cleaned.csv\n",
      "Resolving www.dropbox.com (www.dropbox.com)... 162.125.1.1, 2620:100:6016:1::a27d:101\n",
      "Connecting to www.dropbox.com (www.dropbox.com)|162.125.1.1|:443... connected.\n",
      "HTTP request sent, awaiting response... 301 Moved Permanently\n",
      "Location: /s/raw/w94odi4aq1k44lf/mobile_cleaned.csv [following]\n",
      "--2019-01-29 04:28:34--  https://www.dropbox.com/s/raw/w94odi4aq1k44lf/mobile_cleaned.csv\n",
      "Reusing existing connection to www.dropbox.com:443.\n",
      "HTTP request sent, awaiting response... 302 Found\n",
      "Location: https://uc0dbee8e87e6f20a0ef0deb5bf3.dl.dropboxusercontent.com/cd/0/inline/AaRLKMBgAIR8slYjOWY514P50mlwKgb8cJPirxOdMrTbVk9GjcHfX1J7_BngxlHfBKutYm5PN-ZYWw4GIumNdUkZMMlPYrn5NCkbvmNozcCNcvqVs5QoswZ35QckW9HMXQk/file# [following]\n",
      "--2019-01-29 04:28:34--  https://uc0dbee8e87e6f20a0ef0deb5bf3.dl.dropboxusercontent.com/cd/0/inline/AaRLKMBgAIR8slYjOWY514P50mlwKgb8cJPirxOdMrTbVk9GjcHfX1J7_BngxlHfBKutYm5PN-ZYWw4GIumNdUkZMMlPYrn5NCkbvmNozcCNcvqVs5QoswZ35QckW9HMXQk/file\n",
      "Resolving uc0dbee8e87e6f20a0ef0deb5bf3.dl.dropboxusercontent.com (uc0dbee8e87e6f20a0ef0deb5bf3.dl.dropboxusercontent.com)... 162.125.1.6, 2620:100:6016:6::a27d:106\n",
      "Connecting to uc0dbee8e87e6f20a0ef0deb5bf3.dl.dropboxusercontent.com (uc0dbee8e87e6f20a0ef0deb5bf3.dl.dropboxusercontent.com)|162.125.1.6|:443... connected.\n",
      "HTTP request sent, awaiting response... 200 OK\n",
      "Length: 14044 (14K) [text/plain]\n",
      "Saving to: ‘mobile_cleaned.csv’\n",
      "\n",
      "\r",
      "mobile_cleaned.csv    0%[                    ]       0  --.-KB/s               \r",
      "mobile_cleaned.csv  100%[===================>]  13.71K  --.-KB/s    in 0s      \n",
      "\n",
      "2019-01-29 04:28:34 (148 MB/s) - ‘mobile_cleaned.csv’ saved [14044/14044]\n",
      "\n"
     ]
    }
   ],
   "source": [
    "!wget https://www.dropbox.com/s/w94odi4aq1k44lf/mobile_cleaned.csv"
   ]
  },
  {
   "cell_type": "code",
   "execution_count": 0,
   "metadata": {
    "colab": {
     "base_uri": "https://localhost:8080/",
     "height": 36
    },
    "colab_type": "code",
    "executionInfo": {
     "elapsed": 3149,
     "status": "ok",
     "timestamp": 1548736124003,
     "user": {
      "displayName": "One Fourth Labs Student",
      "photoUrl": "",
      "userId": "07586129509304884691"
     },
     "user_tz": -330
    },
    "id": "exNoyWvW3asG",
    "outputId": "fe07f7ae-d1f3-49b2-a810-b13c32c35c69"
   },
   "outputs": [
    {
     "name": "stdout",
     "output_type": "stream",
     "text": [
      "mobile_cleaned.csv  my_first_module.py\t__pycache__  sample_data\n"
     ]
    }
   ],
   "source": [
    "!ls"
   ]
  },
  {
   "cell_type": "code",
   "execution_count": 0,
   "metadata": {
    "colab": {},
    "colab_type": "code",
    "id": "UEjTlzPt3ceh"
   },
   "outputs": [],
   "source": [
    "file = open('mobile_cleaned.csv', 'r')"
   ]
  },
  {
   "cell_type": "code",
   "execution_count": 0,
   "metadata": {
    "colab": {},
    "colab_type": "code",
    "id": "K0cZlXDS3nUA"
   },
   "outputs": [],
   "source": [
    "s = file.readline()"
   ]
  },
  {
   "cell_type": "code",
   "execution_count": 0,
   "metadata": {
    "colab": {
     "base_uri": "https://localhost:8080/",
     "height": 75
    },
    "colab_type": "code",
    "executionInfo": {
     "elapsed": 758,
     "status": "ok",
     "timestamp": 1548736178272,
     "user": {
      "displayName": "One Fourth Labs Student",
      "photoUrl": "",
      "userId": "07586129509304884691"
     },
     "user_tz": -330
    },
    "id": "nARRi5LD3pU2",
    "outputId": "ae9ea891-1355-47dd-bfe8-4c77bb35117f"
   },
   "outputs": [
    {
     "name": "stdout",
     "output_type": "stream",
     "text": [
      "sim_type,aperture,gpu_rank,weight,stand_by_time,processor_frequency,thickness,flash_type,front_camera_resolution,auto_focus,screen_size,frames_per_second,FM,no_of_reviews_in_gsmarena_in_week,os,phone_height,screen_protection,sim_size,price,talk_time,video_resolution,display_resolution,removable_battery,display_type,primary_camera_resolution,battery_type,ram_memory,internal_memory,brand_rank,no_of_cores,micro_sd_slot,screen_pixel_density,water_proof_rate,phone_width,expandable_memory,version,usb_type,battery_capacity,processor_rank,is_liked\n",
      "\n"
     ]
    }
   ],
   "source": [
    "print(s)"
   ]
  },
  {
   "cell_type": "code",
   "execution_count": 0,
   "metadata": {
    "colab": {
     "base_uri": "https://localhost:8080/",
     "height": 56
    },
    "colab_type": "code",
    "executionInfo": {
     "elapsed": 977,
     "status": "ok",
     "timestamp": 1548736219722,
     "user": {
      "displayName": "One Fourth Labs Student",
      "photoUrl": "",
      "userId": "07586129509304884691"
     },
     "user_tz": -330
    },
    "id": "iqGdV0ej3qTx",
    "outputId": "a3f8516a-d159-44a3-83ab-63a3985bf10a"
   },
   "outputs": [
    {
     "name": "stdout",
     "output_type": "stream",
     "text": [
      "['sim_type', 'aperture', 'gpu_rank', 'weight', 'stand_by_time', 'processor_frequency', 'thickness', 'flash_type', 'front_camera_resolution', 'auto_focus', 'screen_size', 'frames_per_second', 'FM', 'no_of_reviews_in_gsmarena_in_week', 'os', 'phone_height', 'screen_protection', 'sim_size', 'price', 'talk_time', 'video_resolution', 'display_resolution', 'removable_battery', 'display_type', 'primary_camera_resolution', 'battery_type', 'ram_memory', 'internal_memory', 'brand_rank', 'no_of_cores', 'micro_sd_slot', 'screen_pixel_density', 'water_proof_rate', 'phone_width', 'expandable_memory', 'version', 'usb_type', 'battery_capacity', 'processor_rank', 'is_liked\\n']\n"
     ]
    }
   ],
   "source": [
    "print(s.split(','))"
   ]
  },
  {
   "cell_type": "code",
   "execution_count": 0,
   "metadata": {
    "colab": {},
    "colab_type": "code",
    "id": "XWU2nyzf30Xr"
   },
   "outputs": [],
   "source": [
    "file.close()"
   ]
  },
  {
   "cell_type": "code",
   "execution_count": 0,
   "metadata": {
    "colab": {
     "base_uri": "https://localhost:8080/",
     "height": 179
    },
    "colab_type": "code",
    "executionInfo": {
     "elapsed": 766,
     "status": "error",
     "timestamp": 1548736243263,
     "user": {
      "displayName": "One Fourth Labs Student",
      "photoUrl": "",
      "userId": "07586129509304884691"
     },
     "user_tz": -330
    },
    "id": "uK4w6pJs35Ey",
    "outputId": "939899bd-2f50-42fb-afab-cee3f99cc591"
   },
   "outputs": [
    {
     "ename": "ValueError",
     "evalue": "ignored",
     "output_type": "error",
     "traceback": [
      "\u001b[0;31m---------------------------------------------------------------------------\u001b[0m",
      "\u001b[0;31mValueError\u001b[0m                                Traceback (most recent call last)",
      "\u001b[0;32m<ipython-input-30-1ba352a1fd91>\u001b[0m in \u001b[0;36m<module>\u001b[0;34m()\u001b[0m\n\u001b[0;32m----> 1\u001b[0;31m \u001b[0mfile\u001b[0m\u001b[0;34m.\u001b[0m\u001b[0mreadline\u001b[0m\u001b[0;34m(\u001b[0m\u001b[0;34m)\u001b[0m\u001b[0;34m\u001b[0m\u001b[0;34m\u001b[0m\u001b[0m\n\u001b[0m",
      "\u001b[0;31mValueError\u001b[0m: I/O operation on closed file."
     ]
    }
   ],
   "source": [
    "file.readline()"
   ]
  },
  {
   "cell_type": "code",
   "execution_count": 0,
   "metadata": {
    "colab": {
     "base_uri": "https://localhost:8080/",
     "height": 75
    },
    "colab_type": "code",
    "executionInfo": {
     "elapsed": 737,
     "status": "ok",
     "timestamp": 1548736284478,
     "user": {
      "displayName": "One Fourth Labs Student",
      "photoUrl": "",
      "userId": "07586129509304884691"
     },
     "user_tz": -330
    },
    "id": "AWmQKP-t36LK",
    "outputId": "68821293-6a8f-440f-a620-e45ca07f45b0"
   },
   "outputs": [
    {
     "name": "stdout",
     "output_type": "stream",
     "text": [
      "sim_type,aperture,gpu_rank,weight,stand_by_time,processor_frequency,thickness,flash_type,front_camera_resolution,auto_focus,screen_size,frames_per_second,FM,no_of_reviews_in_gsmarena_in_week,os,phone_height,screen_protection,sim_size,price,talk_time,video_resolution,display_resolution,removable_battery,display_type,primary_camera_resolution,battery_type,ram_memory,internal_memory,brand_rank,no_of_cores,micro_sd_slot,screen_pixel_density,water_proof_rate,phone_width,expandable_memory,version,usb_type,battery_capacity,processor_rank,is_liked\n",
      "\n"
     ]
    }
   ],
   "source": [
    "with open('mobile_cleaned.csv', 'r') as file:\n",
    "  print(file.readline())"
   ]
  },
  {
   "cell_type": "code",
   "execution_count": 0,
   "metadata": {
    "colab": {},
    "colab_type": "code",
    "id": "losKznsX4EPL"
   },
   "outputs": [],
   "source": [
    "with open('mobile_cleaned.csv', 'r') as file:\n",
    "  print(file.read())"
   ]
  },
  {
   "cell_type": "code",
   "execution_count": 0,
   "metadata": {
    "colab": {},
    "colab_type": "code",
    "id": "Z7ZiqBi-4NAw"
   },
   "outputs": [],
   "source": [
    "with open('mobile_cleaned.csv', 'r') as file:\n",
    "  for line in file:\n",
    "    for word in line.split(','):\n",
    "      print(word)\n",
    "    print('-------')"
   ]
  },
  {
   "cell_type": "code",
   "execution_count": 0,
   "metadata": {
    "colab": {},
    "colab_type": "code",
    "id": "kaekxExq4Yme"
   },
   "outputs": [],
   "source": [
    "with open('my_first_file_output.txt', 'w') as file:\n",
    "  file.write('hello world from python code')"
   ]
  },
  {
   "cell_type": "code",
   "execution_count": 0,
   "metadata": {
    "colab": {
     "base_uri": "https://localhost:8080/",
     "height": 36
    },
    "colab_type": "code",
    "executionInfo": {
     "elapsed": 3175,
     "status": "ok",
     "timestamp": 1548736466654,
     "user": {
      "displayName": "One Fourth Labs Student",
      "photoUrl": "",
      "userId": "07586129509304884691"
     },
     "user_tz": -330
    },
    "id": "gB2XHSeU4rWN",
    "outputId": "5b03fc87-d3e9-432f-b59e-c56c2a92ebb8"
   },
   "outputs": [
    {
     "name": "stdout",
     "output_type": "stream",
     "text": [
      "hello world from python code"
     ]
    }
   ],
   "source": [
    "!cat my_first_file_output.txt"
   ]
  },
  {
   "cell_type": "markdown",
   "metadata": {
    "colab_type": "text",
    "id": "z-G5jSNg1g2Z"
   },
   "source": [
    "# Python Classes"
   ]
  },
  {
   "cell_type": "code",
   "execution_count": 0,
   "metadata": {
    "colab": {},
    "colab_type": "code",
    "id": "ETDYzg4a1iAN"
   },
   "outputs": [],
   "source": [
    "class MobilePhone:\n",
    "  \"\"\"This is a sample class to illustrate how Python classes work\"\"\"\n",
    "  def __init__(self, name, is_android = False, screen_size = 4.3):\n",
    "    self.name = name\n",
    "    self.is_android = is_android\n",
    "    self.screen_size = screen_size\n",
    "    self.rating = -1\n",
    "    \n",
    "  def has_rating(self):\n",
    "    return self.rating > -1"
   ]
  },
  {
   "cell_type": "code",
   "execution_count": 0,
   "metadata": {
    "colab": {},
    "colab_type": "code",
    "id": "vkHApjaE1kod"
   },
   "outputs": [],
   "source": [
    "new_phone = MobilePhone('iPhone 5s')"
   ]
  },
  {
   "cell_type": "code",
   "execution_count": 0,
   "metadata": {
    "colab": {
     "base_uri": "https://localhost:8080/",
     "height": 36
    },
    "colab_type": "code",
    "executionInfo": {
     "elapsed": 864,
     "status": "ok",
     "timestamp": 1548752488694,
     "user": {
      "displayName": "One Fourth Labs Student",
      "photoUrl": "",
      "userId": "07586129509304884691"
     },
     "user_tz": -330
    },
    "id": "L4KjarI-1mPH",
    "outputId": "693b474b-d1a7-4906-abcd-eab695e47648"
   },
   "outputs": [
    {
     "data": {
      "text/plain": [
       "__main__.MobilePhone"
      ]
     },
     "execution_count": 7,
     "metadata": {
      "tags": []
     },
     "output_type": "execute_result"
    }
   ],
   "source": [
    "type(new_phone)"
   ]
  },
  {
   "cell_type": "code",
   "execution_count": 0,
   "metadata": {
    "colab": {
     "base_uri": "https://localhost:8080/",
     "height": 36
    },
    "colab_type": "code",
    "executionInfo": {
     "elapsed": 832,
     "status": "ok",
     "timestamp": 1548752776481,
     "user": {
      "displayName": "One Fourth Labs Student",
      "photoUrl": "",
      "userId": "07586129509304884691"
     },
     "user_tz": -330
    },
    "id": "aw6De6Fi1nmp",
    "outputId": "dd8bd2fe-5f04-46bc-8a1f-5e90e35b6320"
   },
   "outputs": [
    {
     "name": "stdout",
     "output_type": "stream",
     "text": [
      "iPhone 5s False 4\n"
     ]
    }
   ],
   "source": [
    "print(new_phone.name, new_phone.is_android, new_phone.screen_size)"
   ]
  },
  {
   "cell_type": "code",
   "execution_count": 0,
   "metadata": {
    "colab": {},
    "colab_type": "code",
    "id": "ngQoF2tn27D3"
   },
   "outputs": [],
   "source": [
    "new_phone.screen_size = 4"
   ]
  },
  {
   "cell_type": "code",
   "execution_count": 0,
   "metadata": {
    "colab": {
     "base_uri": "https://localhost:8080/",
     "height": 36
    },
    "colab_type": "code",
    "executionInfo": {
     "elapsed": 862,
     "status": "ok",
     "timestamp": 1548752870066,
     "user": {
      "displayName": "One Fourth Labs Student",
      "photoUrl": "",
      "userId": "07586129509304884691"
     },
     "user_tz": -330
    },
    "id": "vPOH3OsF2-HW",
    "outputId": "cfe2335b-f92e-4af7-9a05-1b6424565184"
   },
   "outputs": [
    {
     "data": {
      "text/plain": [
       "True"
      ]
     },
     "execution_count": 20,
     "metadata": {
      "tags": []
     },
     "output_type": "execute_result"
    }
   ],
   "source": [
    "new_phone.has_rating()"
   ]
  },
  {
   "cell_type": "code",
   "execution_count": 0,
   "metadata": {
    "colab": {},
    "colab_type": "code",
    "id": "u4_kG8F73OoA"
   },
   "outputs": [],
   "source": [
    "new_phone.rating = 3.9"
   ]
  },
  {
   "cell_type": "code",
   "execution_count": 0,
   "metadata": {
    "colab": {
     "base_uri": "https://localhost:8080/",
     "height": 36
    },
    "colab_type": "code",
    "executionInfo": {
     "elapsed": 875,
     "status": "ok",
     "timestamp": 1548752900534,
     "user": {
      "displayName": "One Fourth Labs Student",
      "photoUrl": "",
      "userId": "07586129509304884691"
     },
     "user_tz": -330
    },
    "id": "9uU7BylG3U5K",
    "outputId": "1855b70c-1abb-41dd-dcae-e6cf097bee65"
   },
   "outputs": [
    {
     "data": {
      "text/plain": [
       "'This is a sample class to illustrate how Python classes work'"
      ]
     },
     "execution_count": 22,
     "metadata": {
      "tags": []
     },
     "output_type": "execute_result"
    }
   ],
   "source": [
    "MobilePhone.__doc__"
   ]
  },
  {
   "cell_type": "code",
   "execution_count": 0,
   "metadata": {
    "colab": {},
    "colab_type": "code",
    "id": "qNUICpHc3c2w"
   },
   "outputs": [],
   "source": [
    "class iPhone(MobilePhone):\n",
    "  def __init__(self, name):\n",
    "    MobilePhone.__init__(self, name, False, 4)\n",
    "    \n",
    "  def __str__(self):\n",
    "    return self.name + \" \" + str(self.is_android) + \" \" + str(self.screen_size)"
   ]
  },
  {
   "cell_type": "code",
   "execution_count": 0,
   "metadata": {
    "colab": {},
    "colab_type": "code",
    "id": "6rvMwJsL3rgO"
   },
   "outputs": [],
   "source": [
    "new_iphone = iPhone('iPhone 5s')"
   ]
  },
  {
   "cell_type": "code",
   "execution_count": 0,
   "metadata": {
    "colab": {
     "base_uri": "https://localhost:8080/",
     "height": 36
    },
    "colab_type": "code",
    "executionInfo": {
     "elapsed": 725,
     "status": "ok",
     "timestamp": 1548752976889,
     "user": {
      "displayName": "One Fourth Labs Student",
      "photoUrl": "",
      "userId": "07586129509304884691"
     },
     "user_tz": -330
    },
    "id": "7Gj-7qNG3t-J",
    "outputId": "b1c51432-8ff5-42d4-ac32-d8e1c7a3ab9a"
   },
   "outputs": [
    {
     "data": {
      "text/plain": [
       "False"
      ]
     },
     "execution_count": 25,
     "metadata": {
      "tags": []
     },
     "output_type": "execute_result"
    }
   ],
   "source": [
    "new_iphone.is_android"
   ]
  },
  {
   "cell_type": "code",
   "execution_count": 0,
   "metadata": {
    "colab": {
     "base_uri": "https://localhost:8080/",
     "height": 36
    },
    "colab_type": "code",
    "executionInfo": {
     "elapsed": 736,
     "status": "ok",
     "timestamp": 1548753041894,
     "user": {
      "displayName": "One Fourth Labs Student",
      "photoUrl": "",
      "userId": "07586129509304884691"
     },
     "user_tz": -330
    },
    "id": "MadGk2Po3viS",
    "outputId": "1c30b731-4eb2-48ba-da97-cf759665adf2"
   },
   "outputs": [
    {
     "name": "stdout",
     "output_type": "stream",
     "text": [
      "iPhone 5s False 4\n"
     ]
    }
   ],
   "source": [
    "print(new_iphone)"
   ]
  },
  {
   "cell_type": "markdown",
   "metadata": {
    "colab_type": "text",
    "id": "0wUuGWGY67PE"
   },
   "source": [
    "# NumPy"
   ]
  },
  {
   "cell_type": "code",
   "execution_count": 0,
   "metadata": {
    "colab": {},
    "colab_type": "code",
    "id": "aUV4wAG369uu"
   },
   "outputs": [],
   "source": [
    "import numpy as np"
   ]
  },
  {
   "cell_type": "code",
   "execution_count": 0,
   "metadata": {
    "colab": {
     "base_uri": "https://localhost:8080/",
     "height": 36
    },
    "colab_type": "code",
    "executionInfo": {
     "elapsed": 751,
     "status": "ok",
     "timestamp": 1548753846347,
     "user": {
      "displayName": "One Fourth Labs Student",
      "photoUrl": "",
      "userId": "07586129509304884691"
     },
     "user_tz": -330
    },
    "id": "MTXAOj6O6-0_",
    "outputId": "8c7614df-d4b5-45e4-87d7-6d84782e1f9b"
   },
   "outputs": [
    {
     "name": "stdout",
     "output_type": "stream",
     "text": [
      "[1 2 3]\n"
     ]
    }
   ],
   "source": [
    "X = np.array([1, 2, 3])\n",
    "print(X)"
   ]
  },
  {
   "cell_type": "code",
   "execution_count": 0,
   "metadata": {
    "colab": {
     "base_uri": "https://localhost:8080/",
     "height": 36
    },
    "colab_type": "code",
    "executionInfo": {
     "elapsed": 741,
     "status": "ok",
     "timestamp": 1548753851018,
     "user": {
      "displayName": "One Fourth Labs Student",
      "photoUrl": "",
      "userId": "07586129509304884691"
     },
     "user_tz": -330
    },
    "id": "cq5AQNm87DzV",
    "outputId": "f59dc895-9307-4031-8571-2fa0b7f2b6d2"
   },
   "outputs": [
    {
     "data": {
      "text/plain": [
       "numpy.ndarray"
      ]
     },
     "execution_count": 39,
     "metadata": {
      "tags": []
     },
     "output_type": "execute_result"
    }
   ],
   "source": [
    "type(X)"
   ]
  },
  {
   "cell_type": "code",
   "execution_count": 0,
   "metadata": {
    "colab": {
     "base_uri": "https://localhost:8080/",
     "height": 36
    },
    "colab_type": "code",
    "executionInfo": {
     "elapsed": 736,
     "status": "ok",
     "timestamp": 1548753871057,
     "user": {
      "displayName": "One Fourth Labs Student",
      "photoUrl": "",
      "userId": "07586129509304884691"
     },
     "user_tz": -330
    },
    "id": "gO4eo4BB7E8o",
    "outputId": "d8845a2e-4053-472a-e0c5-677f22e6bfa3"
   },
   "outputs": [
    {
     "data": {
      "text/plain": [
       "numpy.ndarray"
      ]
     },
     "execution_count": 40,
     "metadata": {
      "tags": []
     },
     "output_type": "execute_result"
    }
   ],
   "source": [
    "l = [4, 5, 10]\n",
    "X = np.asarray(l)\n",
    "type(X)"
   ]
  },
  {
   "cell_type": "code",
   "execution_count": 0,
   "metadata": {
    "colab": {
     "base_uri": "https://localhost:8080/",
     "height": 36
    },
    "colab_type": "code",
    "executionInfo": {
     "elapsed": 773,
     "status": "ok",
     "timestamp": 1548753879987,
     "user": {
      "displayName": "One Fourth Labs Student",
      "photoUrl": "",
      "userId": "07586129509304884691"
     },
     "user_tz": -330
    },
    "id": "OMuLgPDF7J1X",
    "outputId": "9257ccbd-445a-49e8-f376-da6463b184a4"
   },
   "outputs": [
    {
     "name": "stdout",
     "output_type": "stream",
     "text": [
      "[ 4  5 10]\n"
     ]
    }
   ],
   "source": [
    "print(X)"
   ]
  },
  {
   "cell_type": "code",
   "execution_count": 0,
   "metadata": {
    "colab": {
     "base_uri": "https://localhost:8080/",
     "height": 36
    },
    "colab_type": "code",
    "executionInfo": {
     "elapsed": 802,
     "status": "ok",
     "timestamp": 1548753894948,
     "user": {
      "displayName": "One Fourth Labs Student",
      "photoUrl": "",
      "userId": "07586129509304884691"
     },
     "user_tz": -330
    },
    "id": "BeIAsx0v7MAx",
    "outputId": "13997bfa-9312-4d14-80e1-9c52cbb11cf3"
   },
   "outputs": [
    {
     "name": "stdout",
     "output_type": "stream",
     "text": [
      "[ 4.  5. 10.]\n"
     ]
    }
   ],
   "source": [
    "X = np.asarray(l, float)\n",
    "print(X)"
   ]
  },
  {
   "cell_type": "code",
   "execution_count": 0,
   "metadata": {
    "colab": {
     "base_uri": "https://localhost:8080/",
     "height": 36
    },
    "colab_type": "code",
    "executionInfo": {
     "elapsed": 745,
     "status": "ok",
     "timestamp": 1548753906394,
     "user": {
      "displayName": "One Fourth Labs Student",
      "photoUrl": "",
      "userId": "07586129509304884691"
     },
     "user_tz": -330
    },
    "id": "4YvhBkW87PqC",
    "outputId": "1eff147d-c6ff-4c94-95ee-5812c9ddfa69"
   },
   "outputs": [
    {
     "data": {
      "text/plain": [
       "(3,)"
      ]
     },
     "execution_count": 43,
     "metadata": {
      "tags": []
     },
     "output_type": "execute_result"
    }
   ],
   "source": [
    "X.shape"
   ]
  },
  {
   "cell_type": "code",
   "execution_count": 0,
   "metadata": {
    "colab": {},
    "colab_type": "code",
    "id": "-23qSA5g7Sdt"
   },
   "outputs": [],
   "source": [
    "np.array?"
   ]
  },
  {
   "cell_type": "code",
   "execution_count": 0,
   "metadata": {
    "colab": {},
    "colab_type": "code",
    "id": "j8uf0P_97YyA"
   },
   "outputs": [],
   "source": [
    "X = np.array([[1, 2, 3], [4, 5, 6]])"
   ]
  },
  {
   "cell_type": "code",
   "execution_count": 0,
   "metadata": {
    "colab": {
     "base_uri": "https://localhost:8080/",
     "height": 55
    },
    "colab_type": "code",
    "executionInfo": {
     "elapsed": 776,
     "status": "ok",
     "timestamp": 1548753971449,
     "user": {
      "displayName": "One Fourth Labs Student",
      "photoUrl": "",
      "userId": "07586129509304884691"
     },
     "user_tz": -330
    },
    "id": "MCAscn-A7hs8",
    "outputId": "e6f9ba02-de2f-46f8-d846-2303555cf021"
   },
   "outputs": [
    {
     "name": "stdout",
     "output_type": "stream",
     "text": [
      "[[1 2 3]\n",
      " [4 5 6]]\n"
     ]
    }
   ],
   "source": [
    "print(X)"
   ]
  },
  {
   "cell_type": "code",
   "execution_count": 0,
   "metadata": {
    "colab": {
     "base_uri": "https://localhost:8080/",
     "height": 36
    },
    "colab_type": "code",
    "executionInfo": {
     "elapsed": 747,
     "status": "ok",
     "timestamp": 1548753980401,
     "user": {
      "displayName": "One Fourth Labs Student",
      "photoUrl": "",
      "userId": "07586129509304884691"
     },
     "user_tz": -330
    },
    "id": "F1y0RgnH7iV6",
    "outputId": "70b40af7-5afa-472e-8508-c98a5b28f2bd"
   },
   "outputs": [
    {
     "data": {
      "text/plain": [
       "(2, 3)"
      ]
     },
     "execution_count": 47,
     "metadata": {
      "tags": []
     },
     "output_type": "execute_result"
    }
   ],
   "source": [
    "X.shape"
   ]
  },
  {
   "cell_type": "code",
   "execution_count": 0,
   "metadata": {
    "colab": {
     "base_uri": "https://localhost:8080/",
     "height": 36
    },
    "colab_type": "code",
    "executionInfo": {
     "elapsed": 847,
     "status": "ok",
     "timestamp": 1548754042681,
     "user": {
      "displayName": "One Fourth Labs Student",
      "photoUrl": "",
      "userId": "07586129509304884691"
     },
     "user_tz": -330
    },
    "id": "aM-Ag6wU7kiL",
    "outputId": "4d86db7e-4566-4aa8-abf4-09c9e649df51"
   },
   "outputs": [
    {
     "data": {
      "text/plain": [
       "6"
      ]
     },
     "execution_count": 49,
     "metadata": {
      "tags": []
     },
     "output_type": "execute_result"
    }
   ],
   "source": [
    "X[1, 2]"
   ]
  },
  {
   "cell_type": "code",
   "execution_count": 0,
   "metadata": {
    "colab": {
     "base_uri": "https://localhost:8080/",
     "height": 36
    },
    "colab_type": "code",
    "executionInfo": {
     "elapsed": 728,
     "status": "ok",
     "timestamp": 1548754060584,
     "user": {
      "displayName": "One Fourth Labs Student",
      "photoUrl": "",
      "userId": "07586129509304884691"
     },
     "user_tz": -330
    },
    "id": "m0olUSq07wAz",
    "outputId": "c5c809a6-4239-4f18-a9df-42073c927aed"
   },
   "outputs": [
    {
     "data": {
      "text/plain": [
       "array([1, 2])"
      ]
     },
     "execution_count": 50,
     "metadata": {
      "tags": []
     },
     "output_type": "execute_result"
    }
   ],
   "source": [
    "X[0, 0:2]"
   ]
  },
  {
   "cell_type": "code",
   "execution_count": 0,
   "metadata": {
    "colab": {
     "base_uri": "https://localhost:8080/",
     "height": 36
    },
    "colab_type": "code",
    "executionInfo": {
     "elapsed": 713,
     "status": "ok",
     "timestamp": 1548754072760,
     "user": {
      "displayName": "One Fourth Labs Student",
      "photoUrl": "",
      "userId": "07586129509304884691"
     },
     "user_tz": -330
    },
    "id": "frA-UZik74GU",
    "outputId": "994c32fc-db8d-4f9f-9110-34758f18bcd5"
   },
   "outputs": [
    {
     "data": {
      "text/plain": [
       "array([1, 2, 3])"
      ]
     },
     "execution_count": 51,
     "metadata": {
      "tags": []
     },
     "output_type": "execute_result"
    }
   ],
   "source": [
    "X[0, :]"
   ]
  },
  {
   "cell_type": "code",
   "execution_count": 0,
   "metadata": {
    "colab": {},
    "colab_type": "code",
    "id": "T3MxHZSR77E4"
   },
   "outputs": [],
   "source": [
    "X = np.zeros((4, 5))"
   ]
  },
  {
   "cell_type": "code",
   "execution_count": 0,
   "metadata": {
    "colab": {
     "base_uri": "https://localhost:8080/",
     "height": 93
    },
    "colab_type": "code",
    "executionInfo": {
     "elapsed": 755,
     "status": "ok",
     "timestamp": 1548754095157,
     "user": {
      "displayName": "One Fourth Labs Student",
      "photoUrl": "",
      "userId": "07586129509304884691"
     },
     "user_tz": -330
    },
    "id": "D-CNl8se8ABG",
    "outputId": "a86a3f0d-1334-4847-87b3-69cf1c1af338"
   },
   "outputs": [
    {
     "name": "stdout",
     "output_type": "stream",
     "text": [
      "[[0. 0. 0. 0. 0.]\n",
      " [0. 0. 0. 0. 0.]\n",
      " [0. 0. 0. 0. 0.]\n",
      " [0. 0. 0. 0. 0.]]\n"
     ]
    }
   ],
   "source": [
    "print(X)"
   ]
  },
  {
   "cell_type": "code",
   "execution_count": 0,
   "metadata": {
    "colab": {},
    "colab_type": "code",
    "id": "Ux36ygka8Ai1"
   },
   "outputs": [],
   "source": [
    "X = np.eye(4, 4)"
   ]
  },
  {
   "cell_type": "code",
   "execution_count": 0,
   "metadata": {
    "colab": {
     "base_uri": "https://localhost:8080/",
     "height": 93
    },
    "colab_type": "code",
    "executionInfo": {
     "elapsed": 567,
     "status": "ok",
     "timestamp": 1548754137333,
     "user": {
      "displayName": "One Fourth Labs Student",
      "photoUrl": "",
      "userId": "07586129509304884691"
     },
     "user_tz": -330
    },
    "id": "Wbbz7nU68FIr",
    "outputId": "715353dd-25f5-4c60-bc99-8312cf502ccd"
   },
   "outputs": [
    {
     "name": "stdout",
     "output_type": "stream",
     "text": [
      "[[1. 0. 0. 0.]\n",
      " [0. 1. 0. 0.]\n",
      " [0. 0. 1. 0.]\n",
      " [0. 0. 0. 1.]]\n"
     ]
    }
   ],
   "source": [
    "print(X)"
   ]
  },
  {
   "cell_type": "code",
   "execution_count": 0,
   "metadata": {
    "colab": {},
    "colab_type": "code",
    "id": "-KvyuCVU8IJH"
   },
   "outputs": [],
   "source": [
    "X = np.random.random((4, 5))"
   ]
  },
  {
   "cell_type": "code",
   "execution_count": 0,
   "metadata": {
    "colab": {
     "base_uri": "https://localhost:8080/",
     "height": 93
    },
    "colab_type": "code",
    "executionInfo": {
     "elapsed": 973,
     "status": "ok",
     "timestamp": 1548754175958,
     "user": {
      "displayName": "One Fourth Labs Student",
      "photoUrl": "",
      "userId": "07586129509304884691"
     },
     "user_tz": -330
    },
    "id": "dqpmLeRx8PU0",
    "outputId": "b94db2ad-5854-4298-8908-a7aa8970fe77"
   },
   "outputs": [
    {
     "name": "stdout",
     "output_type": "stream",
     "text": [
      "[[0.87341778 0.90078901 0.91818823 0.33747593 0.98491756]\n",
      " [0.33485602 0.25379737 0.90456387 0.02067163 0.90923984]\n",
      " [0.78282717 0.64131637 0.86989012 0.82875304 0.52809011]\n",
      " [0.20675582 0.33911448 0.51724198 0.13715521 0.12568884]]\n"
     ]
    }
   ],
   "source": [
    "print(X)"
   ]
  },
  {
   "cell_type": "code",
   "execution_count": 0,
   "metadata": {
    "colab": {},
    "colab_type": "code",
    "id": "3WTNwVYE8Qp0"
   },
   "outputs": [],
   "source": [
    "Z = X.T"
   ]
  },
  {
   "cell_type": "code",
   "execution_count": 0,
   "metadata": {
    "colab": {
     "base_uri": "https://localhost:8080/",
     "height": 113
    },
    "colab_type": "code",
    "executionInfo": {
     "elapsed": 625,
     "status": "ok",
     "timestamp": 1548754196029,
     "user": {
      "displayName": "One Fourth Labs Student",
      "photoUrl": "",
      "userId": "07586129509304884691"
     },
     "user_tz": -330
    },
    "id": "5fuP8kc78W0T",
    "outputId": "1a414026-49a1-4dfc-9852-24cd35155d59"
   },
   "outputs": [
    {
     "name": "stdout",
     "output_type": "stream",
     "text": [
      "[[0.87341778 0.33485602 0.78282717 0.20675582]\n",
      " [0.90078901 0.25379737 0.64131637 0.33911448]\n",
      " [0.91818823 0.90456387 0.86989012 0.51724198]\n",
      " [0.33747593 0.02067163 0.82875304 0.13715521]\n",
      " [0.98491756 0.90923984 0.52809011 0.12568884]]\n"
     ]
    }
   ],
   "source": [
    "print(Z)"
   ]
  },
  {
   "cell_type": "code",
   "execution_count": 0,
   "metadata": {
    "colab": {},
    "colab_type": "code",
    "id": "M9rIFpsl8YKE"
   },
   "outputs": [],
   "source": [
    "Y = X.reshape(20, 1)"
   ]
  },
  {
   "cell_type": "code",
   "execution_count": 0,
   "metadata": {
    "colab": {
     "base_uri": "https://localhost:8080/",
     "height": 399
    },
    "colab_type": "code",
    "executionInfo": {
     "elapsed": 984,
     "status": "ok",
     "timestamp": 1548754221832,
     "user": {
      "displayName": "One Fourth Labs Student",
      "photoUrl": "",
      "userId": "07586129509304884691"
     },
     "user_tz": -330
    },
    "id": "M6nBY7pd8eQ2",
    "outputId": "74ca460f-6dac-489f-b708-6ab3b9b1f748"
   },
   "outputs": [
    {
     "name": "stdout",
     "output_type": "stream",
     "text": [
      "[[0.87341778]\n",
      " [0.90078901]\n",
      " [0.91818823]\n",
      " [0.33747593]\n",
      " [0.98491756]\n",
      " [0.33485602]\n",
      " [0.25379737]\n",
      " [0.90456387]\n",
      " [0.02067163]\n",
      " [0.90923984]\n",
      " [0.78282717]\n",
      " [0.64131637]\n",
      " [0.86989012]\n",
      " [0.82875304]\n",
      " [0.52809011]\n",
      " [0.20675582]\n",
      " [0.33911448]\n",
      " [0.51724198]\n",
      " [0.13715521]\n",
      " [0.12568884]]\n"
     ]
    }
   ],
   "source": [
    "print(Y)"
   ]
  },
  {
   "cell_type": "code",
   "execution_count": 0,
   "metadata": {
    "colab": {
     "base_uri": "https://localhost:8080/",
     "height": 36
    },
    "colab_type": "code",
    "executionInfo": {
     "elapsed": 782,
     "status": "ok",
     "timestamp": 1548754259035,
     "user": {
      "displayName": "One Fourth Labs Student",
      "photoUrl": "",
      "userId": "07586129509304884691"
     },
     "user_tz": -330
    },
    "id": "S9M9AXsS8faf",
    "outputId": "90015b00-19a9-4797-fba9-0e4f32669e13"
   },
   "outputs": [
    {
     "name": "stdout",
     "output_type": "stream",
     "text": [
      "[0 1 2 3 4]\n"
     ]
    }
   ],
   "source": [
    "A = np.arange(5)\n",
    "print(A)"
   ]
  },
  {
   "cell_type": "code",
   "execution_count": 0,
   "metadata": {
    "colab": {},
    "colab_type": "code",
    "id": "u3HrI5_98oin"
   },
   "outputs": [],
   "source": [
    "B = np.arange(5)"
   ]
  },
  {
   "cell_type": "code",
   "execution_count": 0,
   "metadata": {
    "colab": {
     "base_uri": "https://localhost:8080/",
     "height": 36
    },
    "colab_type": "code",
    "executionInfo": {
     "elapsed": 777,
     "status": "ok",
     "timestamp": 1548754286980,
     "user": {
      "displayName": "One Fourth Labs Student",
      "photoUrl": "",
      "userId": "07586129509304884691"
     },
     "user_tz": -330
    },
    "id": "jvLlYcMz8ruY",
    "outputId": "88420ca9-fb6d-4389-88c8-6f3fc18c1ec6"
   },
   "outputs": [
    {
     "name": "stdout",
     "output_type": "stream",
     "text": [
      "[0 2 4 6 8] [0 0 0 0 0] [ 0  1  4  9 16]\n"
     ]
    }
   ],
   "source": [
    "C = A + B\n",
    "D = A - B\n",
    "E = A * B\n",
    "print(C, D, E)"
   ]
  },
  {
   "cell_type": "code",
   "execution_count": 0,
   "metadata": {
    "colab": {
     "base_uri": "https://localhost:8080/",
     "height": 36
    },
    "colab_type": "code",
    "executionInfo": {
     "elapsed": 726,
     "status": "ok",
     "timestamp": 1548754303991,
     "user": {
      "displayName": "One Fourth Labs Student",
      "photoUrl": "",
      "userId": "07586129509304884691"
     },
     "user_tz": -330
    },
    "id": "vUsGKXTe8vXp",
    "outputId": "da43ab88-e193-40b2-ff44-983de0e9e132"
   },
   "outputs": [
    {
     "name": "stdout",
     "output_type": "stream",
     "text": [
      "[0 1 2 3 4] [1 2 3 4 5]\n"
     ]
    }
   ],
   "source": [
    "print(A, A + 1)"
   ]
  },
  {
   "cell_type": "code",
   "execution_count": 0,
   "metadata": {
    "colab": {
     "base_uri": "https://localhost:8080/",
     "height": 93
    },
    "colab_type": "code",
    "executionInfo": {
     "elapsed": 875,
     "status": "ok",
     "timestamp": 1548754351783,
     "user": {
      "displayName": "One Fourth Labs Student",
      "photoUrl": "",
      "userId": "07586129509304884691"
     },
     "user_tz": -330
    },
    "id": "VDohF0vp8zhz",
    "outputId": "0460f2e7-d7a7-41ac-a5de-fab229cac4e9"
   },
   "outputs": [
    {
     "name": "stdout",
     "output_type": "stream",
     "text": [
      "[[0.55610055 0.99531044 0.92377496]\n",
      " [0.34752321 0.77827385 0.86643146]]\n",
      "[[1.55610055 1.99531044 1.92377496]\n",
      " [1.34752321 1.77827385 1.86643146]]\n"
     ]
    }
   ],
   "source": [
    "A = np.random.random((2, 3))\n",
    "print(A)\n",
    "print(A + 1)"
   ]
  },
  {
   "cell_type": "code",
   "execution_count": 0,
   "metadata": {
    "colab": {
     "base_uri": "https://localhost:8080/",
     "height": 55
    },
    "colab_type": "code",
    "executionInfo": {
     "elapsed": 719,
     "status": "ok",
     "timestamp": 1548754396584,
     "user": {
      "displayName": "One Fourth Labs Student",
      "photoUrl": "",
      "userId": "07586129509304884691"
     },
     "user_tz": -330
    },
    "id": "cDyBixAq88Rq",
    "outputId": "44fcfc26-1e63-490b-88e0-929c29377911"
   },
   "outputs": [
    {
     "name": "stdout",
     "output_type": "stream",
     "text": [
      "[[4. 1. 9.]\n",
      " [4. 9. 8.]]\n"
     ]
    }
   ],
   "source": [
    "A = np.floor(np.random.random((2, 3))*10)\n",
    "print(A)"
   ]
  },
  {
   "cell_type": "code",
   "execution_count": 0,
   "metadata": {
    "colab": {
     "base_uri": "https://localhost:8080/",
     "height": 36
    },
    "colab_type": "code",
    "executionInfo": {
     "elapsed": 776,
     "status": "ok",
     "timestamp": 1548754434066,
     "user": {
      "displayName": "One Fourth Labs Student",
      "photoUrl": "",
      "userId": "07586129509304884691"
     },
     "user_tz": -330
    },
    "id": "83SVLoCV9KI2",
    "outputId": "52380258-4835-459c-beaf-7185c83b29d3"
   },
   "outputs": [
    {
     "name": "stdout",
     "output_type": "stream",
     "text": [
      "2\n"
     ]
    }
   ],
   "source": [
    "u = [1, 2, 3]\n",
    "v = [-1, 0, 1]\n",
    "\n",
    "p1 = np.inner(u, v)\n",
    "print(p1)"
   ]
  },
  {
   "cell_type": "code",
   "execution_count": 0,
   "metadata": {
    "colab": {
     "base_uri": "https://localhost:8080/",
     "height": 74
    },
    "colab_type": "code",
    "executionInfo": {
     "elapsed": 702,
     "status": "ok",
     "timestamp": 1548754453397,
     "user": {
      "displayName": "One Fourth Labs Student",
      "photoUrl": "",
      "userId": "07586129509304884691"
     },
     "user_tz": -330
    },
    "id": "2cTF8Dj39TRW",
    "outputId": "73bc1171-e693-4863-89b1-85de6ec9e6c5"
   },
   "outputs": [
    {
     "name": "stdout",
     "output_type": "stream",
     "text": [
      "[[-1  0  1]\n",
      " [-2  0  2]\n",
      " [-3  0  3]]\n"
     ]
    }
   ],
   "source": [
    "p2 = np.outer(u, v)\n",
    "print(p2)"
   ]
  },
  {
   "cell_type": "code",
   "execution_count": 0,
   "metadata": {
    "colab": {
     "base_uri": "https://localhost:8080/",
     "height": 55
    },
    "colab_type": "code",
    "executionInfo": {
     "elapsed": 788,
     "status": "ok",
     "timestamp": 1548754497164,
     "user": {
      "displayName": "One Fourth Labs Student",
      "photoUrl": "",
      "userId": "07586129509304884691"
     },
     "user_tz": -330
    },
    "id": "8bvV3VLf9YAk",
    "outputId": "6208b853-a6ce-4dff-e110-c3c05cb923b4"
   },
   "outputs": [
    {
     "data": {
      "text/plain": [
       "array([[3., 3.],\n",
       "       [3., 3.]])"
      ]
     },
     "execution_count": 77,
     "metadata": {
      "tags": []
     },
     "output_type": "execute_result"
    }
   ],
   "source": [
    "A = np.ones((2, 3))\n",
    "B = np.ones((3, 2))\n",
    "np.dot(A, B)"
   ]
  },
  {
   "cell_type": "code",
   "execution_count": 0,
   "metadata": {
    "colab": {
     "base_uri": "https://localhost:8080/",
     "height": 55
    },
    "colab_type": "code",
    "executionInfo": {
     "elapsed": 711,
     "status": "ok",
     "timestamp": 1548754514766,
     "user": {
      "displayName": "One Fourth Labs Student",
      "photoUrl": "",
      "userId": "07586129509304884691"
     },
     "user_tz": -330
    },
    "id": "r-1EvJHN9irJ",
    "outputId": "63808838-d423-4713-926c-45dd195ea9e9"
   },
   "outputs": [
    {
     "data": {
      "text/plain": [
       "array([[3., 3.],\n",
       "       [3., 3.]])"
      ]
     },
     "execution_count": 78,
     "metadata": {
      "tags": []
     },
     "output_type": "execute_result"
    }
   ],
   "source": [
    "np.dot(B.T, A.T)"
   ]
  },
  {
   "cell_type": "code",
   "execution_count": 0,
   "metadata": {
    "colab": {
     "base_uri": "https://localhost:8080/",
     "height": 55
    },
    "colab_type": "code",
    "executionInfo": {
     "elapsed": 1028,
     "status": "ok",
     "timestamp": 1548754525692,
     "user": {
      "displayName": "One Fourth Labs Student",
      "photoUrl": "",
      "userId": "07586129509304884691"
     },
     "user_tz": -330
    },
    "id": "6RKfdl_q9m_S",
    "outputId": "1cd1cb6b-f5aa-4da1-d7b2-f323b8ca9d37"
   },
   "outputs": [
    {
     "name": "stdout",
     "output_type": "stream",
     "text": [
      "[[1. 1. 1.]\n",
      " [1. 1. 1.]]\n"
     ]
    }
   ],
   "source": [
    "A = np.ones((2, 3))\n",
    "print(A)"
   ]
  },
  {
   "cell_type": "code",
   "execution_count": 0,
   "metadata": {
    "colab": {
     "base_uri": "https://localhost:8080/",
     "height": 36
    },
    "colab_type": "code",
    "executionInfo": {
     "elapsed": 746,
     "status": "ok",
     "timestamp": 1548754530300,
     "user": {
      "displayName": "One Fourth Labs Student",
      "photoUrl": "",
      "userId": "07586129509304884691"
     },
     "user_tz": -330
    },
    "id": "50bhOhuY9plm",
    "outputId": "7ee337fb-0c2a-4364-edc1-940d805f7201"
   },
   "outputs": [
    {
     "data": {
      "text/plain": [
       "6.0"
      ]
     },
     "execution_count": 80,
     "metadata": {
      "tags": []
     },
     "output_type": "execute_result"
    }
   ],
   "source": [
    "A.sum()"
   ]
  },
  {
   "cell_type": "code",
   "execution_count": 0,
   "metadata": {
    "colab": {
     "base_uri": "https://localhost:8080/",
     "height": 36
    },
    "colab_type": "code",
    "executionInfo": {
     "elapsed": 695,
     "status": "ok",
     "timestamp": 1548754551330,
     "user": {
      "displayName": "One Fourth Labs Student",
      "photoUrl": "",
      "userId": "07586129509304884691"
     },
     "user_tz": -330
    },
    "id": "P6y9EEdY9qyD",
    "outputId": "51ce949e-46e6-4798-b7bc-9cf1c11233e3"
   },
   "outputs": [
    {
     "data": {
      "text/plain": [
       "array([2., 2., 2.])"
      ]
     },
     "execution_count": 81,
     "metadata": {
      "tags": []
     },
     "output_type": "execute_result"
    }
   ],
   "source": [
    "A.sum(axis = 0)"
   ]
  },
  {
   "cell_type": "code",
   "execution_count": 0,
   "metadata": {
    "colab": {
     "base_uri": "https://localhost:8080/",
     "height": 36
    },
    "colab_type": "code",
    "executionInfo": {
     "elapsed": 726,
     "status": "ok",
     "timestamp": 1548754561468,
     "user": {
      "displayName": "One Fourth Labs Student",
      "photoUrl": "",
      "userId": "07586129509304884691"
     },
     "user_tz": -330
    },
    "id": "l87rZ2Bt9v6c",
    "outputId": "8f6d35f9-5480-4150-9269-f17df9a9de2e"
   },
   "outputs": [
    {
     "data": {
      "text/plain": [
       "array([3., 3.])"
      ]
     },
     "execution_count": 82,
     "metadata": {
      "tags": []
     },
     "output_type": "execute_result"
    }
   ],
   "source": [
    "A.sum(axis = 1)"
   ]
  },
  {
   "cell_type": "code",
   "execution_count": 0,
   "metadata": {
    "colab": {
     "base_uri": "https://localhost:8080/",
     "height": 36
    },
    "colab_type": "code",
    "executionInfo": {
     "elapsed": 713,
     "status": "ok",
     "timestamp": 1548754567479,
     "user": {
      "displayName": "One Fourth Labs Student",
      "photoUrl": "",
      "userId": "07586129509304884691"
     },
     "user_tz": -330
    },
    "id": "v8j0GuVC9yZM",
    "outputId": "0fb6dd37-228e-4d66-aadb-605c39d1e49e"
   },
   "outputs": [
    {
     "data": {
      "text/plain": [
       "1.0"
      ]
     },
     "execution_count": 83,
     "metadata": {
      "tags": []
     },
     "output_type": "execute_result"
    }
   ],
   "source": [
    "A.max()"
   ]
  },
  {
   "cell_type": "code",
   "execution_count": 0,
   "metadata": {
    "colab": {},
    "colab_type": "code",
    "id": "K-8LkSefyrxw"
   },
   "outputs": [],
   "source": []
  },
  {
   "cell_type": "markdown",
   "metadata": {
    "colab_type": "text",
    "id": "RcMuyR28zDPw"
   },
   "source": [
    "# Plotting"
   ]
  },
  {
   "cell_type": "code",
   "execution_count": 1,
   "metadata": {
    "colab": {},
    "colab_type": "code",
    "id": "F2NwFmsD0NNr"
   },
   "outputs": [],
   "source": [
    "import matplotlib.pyplot as plt\n",
    "import numpy as np"
   ]
  },
  {
   "cell_type": "code",
   "execution_count": 2,
   "metadata": {
    "colab": {
     "base_uri": "https://localhost:8080/",
     "height": 208
    },
    "colab_type": "code",
    "executionInfo": {
     "elapsed": 1053,
     "status": "ok",
     "timestamp": 1548819512425,
     "user": {
      "displayName": "One Fourth Labs Student",
      "photoUrl": "",
      "userId": "07586129509304884691"
     },
     "user_tz": -330
    },
    "id": "RXIyNRGB0Tfp",
    "outputId": "bc5312fa-b7a4-4aae-e413-317fa1980bef"
   },
   "outputs": [
    {
     "name": "stdout",
     "output_type": "stream",
     "text": [
      "[[0.85391352]\n",
      " [0.60334099]\n",
      " [0.99351698]\n",
      " [0.42135346]\n",
      " [0.47338596]\n",
      " [0.17776788]\n",
      " [0.52606839]\n",
      " [0.06438679]\n",
      " [0.02233431]\n",
      " [0.95950063]]\n"
     ]
    }
   ],
   "source": [
    "x = np.random.random((10, 1))\n",
    "print(x)"
   ]
  },
  {
   "cell_type": "code",
   "execution_count": 3,
   "metadata": {
    "colab": {
     "base_uri": "https://localhost:8080/",
     "height": 269
    },
    "colab_type": "code",
    "executionInfo": {
     "elapsed": 1393,
     "status": "ok",
     "timestamp": 1548819512787,
     "user": {
      "displayName": "One Fourth Labs Student",
      "photoUrl": "",
      "userId": "07586129509304884691"
     },
     "user_tz": -330
    },
    "id": "q25Y0IJG0XPb",
    "outputId": "98894967-582b-4c68-c156-2def1ad87447"
   },
   "outputs": [
    {
     "data": {
      "image/png": "[encoded data removed]",
      "text/plain": [
       "<Figure size 432x288 with 1 Axes>"
      ]
     },
     "metadata": {
      "needs_background": "light"
     },
     "output_type": "display_data"
    }
   ],
   "source": [
    "plt.plot(x, '*-')\n",
    "plt.show()"
   ]
  },
  {
   "cell_type": "code",
   "execution_count": 4,
   "metadata": {
    "colab": {
     "base_uri": "https://localhost:8080/",
     "height": 269
    },
    "colab_type": "code",
    "executionInfo": {
     "elapsed": 1362,
     "status": "ok",
     "timestamp": 1548819512790,
     "user": {
      "displayName": "One Fourth Labs Student",
      "photoUrl": "",
      "userId": "07586129509304884691"
     },
     "user_tz": -330
    },
    "id": "xwwFs1JY0ZfN",
    "outputId": "b3e4c41b-2e0c-4fa9-cdc6-73169bf6edd4"
   },
   "outputs": [
    {
     "data": {
      "image/png": "[encoded data removed]",
      "text/plain": [
       "<Figure size 432x288 with 1 Axes>"
      ]
     },
     "metadata": {
      "needs_background": "light"
     },
     "output_type": "display_data"
    }
   ],
   "source": [
    "x = np.linspace(0, 100, 50)\n",
    "y = np.power(x, 2)\n",
    "plt.plot(x, y, '+')\n",
    "plt.show()"
   ]
  },
  {
   "cell_type": "code",
   "execution_count": null,
   "metadata": {
    "colab": {},
    "colab_type": "code",
    "id": "0tGC0DCB01dx"
   },
   "outputs": [],
   "source": [
    "import seaborn as sns"
   ]
  },
  {
   "cell_type": "code",
   "execution_count": null,
   "metadata": {
    "colab": {},
    "colab_type": "code",
    "id": "WNdO9A1F1HkN"
   },
   "outputs": [],
   "source": [
    "sns.set()"
   ]
  },
  {
   "cell_type": "code",
   "execution_count": null,
   "metadata": {
    "colab": {
     "base_uri": "https://localhost:8080/",
     "height": 274
    },
    "colab_type": "code",
    "executionInfo": {
     "elapsed": 867,
     "status": "ok",
     "timestamp": 1548819530683,
     "user": {
      "displayName": "One Fourth Labs Student",
      "photoUrl": "",
      "userId": "07586129509304884691"
     },
     "user_tz": -330
    },
    "id": "usDEQ0Sm1Iu5",
    "outputId": "52bd6ccf-5da2-4523-c345-6c2416c2caed"
   },
   "outputs": [
    {
     "data": {
      "image/png": "[encoded data removed]",
      "text/plain": [
       "<Figure size 432x288 with 1 Axes>"
      ]
     },
     "metadata": {},
     "output_type": "display_data"
    }
   ],
   "source": [
    "sns.lineplot(x, y)\n",
    "plt.show()"
   ]
  },
  {
   "cell_type": "code",
   "execution_count": null,
   "metadata": {
    "colab": {
     "base_uri": "https://localhost:8080/",
     "height": 419
    },
    "colab_type": "code",
    "executionInfo": {
     "elapsed": 3424,
     "status": "ok",
     "timestamp": 1548819564640,
     "user": {
      "displayName": "One Fourth Labs Student",
      "photoUrl": "",
      "userId": "07586129509304884691"
     },
     "user_tz": -330
    },
    "id": "9JmBRLjl1Vc9",
    "outputId": "c33fcb01-2372-4e11-a3ab-2fcc7b91c448"
   },
   "outputs": [
    {
     "name": "stdout",
     "output_type": "stream",
     "text": [
      "--2019-02-14 15:28:46--  https://www.dropbox.com/s/w94odi4aq1k44lf/mobile_cleaned.csv\n",
      "Resolving www.dropbox.com (www.dropbox.com)... 162.125.81.1, 2620:100:6031:1::a27d:5101\n",
      "Connecting to www.dropbox.com (www.dropbox.com)|162.125.81.1|:443... connected.\n",
      "HTTP request sent, awaiting response... 301 Moved Permanently\n",
      "Location: /s/raw/w94odi4aq1k44lf/mobile_cleaned.csv [following]\n",
      "--2019-02-14 15:28:47--  https://www.dropbox.com/s/raw/w94odi4aq1k44lf/mobile_cleaned.csv\n",
      "Reusing existing connection to www.dropbox.com:443.\n",
      "HTTP request sent, awaiting response... 302 Found\n",
      "Location: https://uc5138a790ed0d62f8d6b401e70c.dl.dropboxusercontent.com/cd/0/inline/AbRRGmLwMBcbg8snLOzBOLGSUN8tauYXt5r_rCdZbz_1KJPeq7nIi5ujpqR3S-5uZjY-Tw9VLEjSp7_2c1UDF-r_e9pg77CW4fZWCPIHUqTpPQEYHv7uo-535FSgNLG1Xek/file# [following]\n",
      "--2019-02-14 15:28:48--  https://uc5138a790ed0d62f8d6b401e70c.dl.dropboxusercontent.com/cd/0/inline/AbRRGmLwMBcbg8snLOzBOLGSUN8tauYXt5r_rCdZbz_1KJPeq7nIi5ujpqR3S-5uZjY-Tw9VLEjSp7_2c1UDF-r_e9pg77CW4fZWCPIHUqTpPQEYHv7uo-535FSgNLG1Xek/file\n",
      "Resolving uc5138a790ed0d62f8d6b401e70c.dl.dropboxusercontent.com (uc5138a790ed0d62f8d6b401e70c.dl.dropboxusercontent.com)... 162.125.81.6, 2620:100:6031:6::a27d:5106\n",
      "Connecting to uc5138a790ed0d62f8d6b401e70c.dl.dropboxusercontent.com (uc5138a790ed0d62f8d6b401e70c.dl.dropboxusercontent.com)|162.125.81.6|:443... connected.\n",
      "HTTP request sent, awaiting response... 200 OK\n",
      "Length: 14044 (14K) [text/plain]\n",
      "Saving to: ‘mobile_cleaned.csv’\n",
      "\n",
      "mobile_cleaned.csv  100%[===================>]  13.71K  --.-KB/s    in 0s      \n",
      "\n",
      "2019-02-14 15:28:48 (171 MB/s) - ‘mobile_cleaned.csv’ saved [14044/14044]\n",
      "\n"
     ]
    }
   ],
   "source": [
    "!wget https://www.dropbox.com/s/w94odi4aq1k44lf/mobile_cleaned.csv"
   ]
  },
  {
   "cell_type": "code",
   "execution_count": null,
   "metadata": {
    "colab": {
     "base_uri": "https://localhost:8080/",
     "height": 36
    },
    "colab_type": "code",
    "executionInfo": {
     "elapsed": 2832,
     "status": "ok",
     "timestamp": 1548819571538,
     "user": {
      "displayName": "One Fourth Labs Student",
      "photoUrl": "",
      "userId": "07586129509304884691"
     },
     "user_tz": -330
    },
    "id": "TuW2gohJ1vpH",
    "outputId": "6937a811-48d0-49e3-e646-57494b664bfb"
   },
   "outputs": [
    {
     "name": "stdout",
     "output_type": "stream",
     "text": [
      "0202_PythonBasics-1549119762879.ipynb  mobile_cleaned.csv\r\n"
     ]
    }
   ],
   "source": [
    "!ls"
   ]
  },
  {
   "cell_type": "code",
   "execution_count": null,
   "metadata": {
    "colab": {
     "base_uri": "https://localhost:8080/",
     "height": 256
    },
    "colab_type": "code",
    "executionInfo": {
     "elapsed": 755,
     "status": "ok",
     "timestamp": 1548819596597,
     "user": {
      "displayName": "One Fourth Labs Student",
      "photoUrl": "",
      "userId": "07586129509304884691"
     },
     "user_tz": -330
    },
    "id": "8MTCMQFG1xeh",
    "outputId": "d9016874-33d4-42d2-b0bc-0d4d64cbf5a3"
   },
   "outputs": [],
   "source": [
    "import pandas as pd\n",
    "data = pd.read_csv('mobile_cleaned.csv')\n",
    "data.head()"
   ]
  },
  {
   "cell_type": "code",
   "execution_count": null,
   "metadata": {
    "colab": {
     "base_uri": "https://localhost:8080/",
     "height": 291
    },
    "colab_type": "code",
    "executionInfo": {
     "elapsed": 787,
     "status": "ok",
     "timestamp": 1548819647542,
     "user": {
      "displayName": "One Fourth Labs Student",
      "photoUrl": "",
      "userId": "07586129509304884691"
     },
     "user_tz": -330
    },
    "id": "5tCFDbiF14HM",
    "outputId": "7cc8618d-b335-4c55-cfd1-ce10070ae456"
   },
   "outputs": [],
   "source": [
    "ax = sns.scatterplot(x=\"stand_by_time\", y=\"battery_capacity\", data=data)"
   ]
  },
  {
   "cell_type": "code",
   "execution_count": null,
   "metadata": {
    "colab": {
     "base_uri": "https://localhost:8080/",
     "height": 291
    },
    "colab_type": "code",
    "executionInfo": {
     "elapsed": 792,
     "status": "ok",
     "timestamp": 1548819725783,
     "user": {
      "displayName": "One Fourth Labs Student",
      "photoUrl": "",
      "userId": "07586129509304884691"
     },
     "user_tz": -330
    },
    "id": "4kUBm6WF2Eid",
    "outputId": "6348b5a0-4714-4fb3-a5c7-4118a442f11e"
   },
   "outputs": [],
   "source": [
    "ax = sns.scatterplot(x = \"stand_by_time\", y = \"battery_capacity\", hue=\"thickness\", data=data)"
   ]
  },
  {
   "cell_type": "code",
   "execution_count": null,
   "metadata": {
    "colab": {
     "base_uri": "https://localhost:8080/",
     "height": 291
    },
    "colab_type": "code",
    "executionInfo": {
     "elapsed": 746,
     "status": "ok",
     "timestamp": 1548819765784,
     "user": {
      "displayName": "One Fourth Labs Student",
      "photoUrl": "",
      "userId": "07586129509304884691"
     },
     "user_tz": -330
    },
    "id": "Tjfgfhag2Xoh",
    "outputId": "7835f0e8-31eb-4a0f-a83d-53ef9de82e3a"
   },
   "outputs": [],
   "source": [
    "ax = sns.distplot(data[\"stand_by_time\"])"
   ]
  },
  {
   "cell_type": "code",
   "execution_count": null,
   "metadata": {
    "colab": {
     "base_uri": "https://localhost:8080/",
     "height": 291
    },
    "colab_type": "code",
    "executionInfo": {
     "elapsed": 845,
     "status": "ok",
     "timestamp": 1548819829955,
     "user": {
      "displayName": "One Fourth Labs Student",
      "photoUrl": "",
      "userId": "07586129509304884691"
     },
     "user_tz": -330
    },
    "id": "bV9DgHe12haU",
    "outputId": "cf35dd9e-1b4d-47af-b982-8add23697a74"
   },
   "outputs": [],
   "source": [
    "ax = sns.distplot(data[\"stand_by_time\"], kde=False, rug=True, bins = 20)"
   ]
  },
  {
   "cell_type": "code",
   "execution_count": null,
   "metadata": {
    "colab": {
     "base_uri": "https://localhost:8080/",
     "height": 291
    },
    "colab_type": "code",
    "executionInfo": {
     "elapsed": 734,
     "status": "ok",
     "timestamp": 1548819882088,
     "user": {
      "displayName": "One Fourth Labs Student",
      "photoUrl": "",
      "userId": "07586129509304884691"
     },
     "user_tz": -330
    },
    "id": "iP9zrLI92t89",
    "outputId": "89785138-36ae-4166-f6cb-067e625b4000"
   },
   "outputs": [],
   "source": [
    "ax = sns.boxplot(x=\"is_liked\", y=\"battery_capacity\", data=data)"
   ]
  },
  {
   "cell_type": "code",
   "execution_count": null,
   "metadata": {
    "colab": {
     "base_uri": "https://localhost:8080/",
     "height": 291
    },
    "colab_type": "code",
    "executionInfo": {
     "elapsed": 731,
     "status": "ok",
     "timestamp": 1548819951830,
     "user": {
      "displayName": "One Fourth Labs Student",
      "photoUrl": "",
      "userId": "07586129509304884691"
     },
     "user_tz": -330
    },
    "id": "p4UoIsEY29zx",
    "outputId": "de26789b-3297-4cbd-b590-d4b2c4621be8"
   },
   "outputs": [],
   "source": [
    "ax = sns.boxplot(x = \"expandable_memory\", y = \"price\", data=data)"
   ]
  },
  {
   "cell_type": "code",
   "execution_count": null,
   "metadata": {
    "colab": {
     "base_uri": "https://localhost:8080/",
     "height": 399
    },
    "colab_type": "code",
    "executionInfo": {
     "elapsed": 692,
     "status": "ok",
     "timestamp": 1548820004856,
     "user": {
      "displayName": "One Fourth Labs Student",
      "photoUrl": "",
      "userId": "07586129509304884691"
     },
     "user_tz": -330
    },
    "id": "syqEvEkB3O1e",
    "outputId": "58a9411f-a18f-48d7-e2e7-1b1fc0daa301"
   },
   "outputs": [],
   "source": [
    "uniform_data = np.random.rand(10, 12)\n",
    "print(uniform_data)"
   ]
  },
  {
   "cell_type": "code",
   "execution_count": null,
   "metadata": {
    "colab": {
     "base_uri": "https://localhost:8080/",
     "height": 274
    },
    "colab_type": "code",
    "executionInfo": {
     "elapsed": 837,
     "status": "ok",
     "timestamp": 1548820050108,
     "user": {
      "displayName": "One Fourth Labs Student",
      "photoUrl": "",
      "userId": "07586129509304884691"
     },
     "user_tz": -330
    },
    "id": "BcF0aSUl3bye",
    "outputId": "84062503-121c-456c-d814-07225bbd8dbf"
   },
   "outputs": [],
   "source": [
    "ax = sns.heatmap(uniform_data, cmap=\"YlGnBu\")"
   ]
  },
  {
   "cell_type": "code",
   "execution_count": null,
   "metadata": {
    "colab": {
     "base_uri": "https://localhost:8080/",
     "height": 227
    },
    "colab_type": "code",
    "executionInfo": {
     "elapsed": 2876,
     "status": "ok",
     "timestamp": 1548820091705,
     "user": {
      "displayName": "One Fourth Labs Student",
      "photoUrl": "",
      "userId": "07586129509304884691"
     },
     "user_tz": -330
    },
    "id": "VVR75RpL3fCQ",
    "outputId": "68c9179c-2a6a-4c38-d2c7-7906f5666202"
   },
   "outputs": [],
   "source": [
    "!wget https://s3.amazonaws.com/thinkific-import/153034/3f9yaVLKTyUGmlBPcSOA_logo_long.png"
   ]
  },
  {
   "cell_type": "code",
   "execution_count": null,
   "metadata": {
    "colab": {
     "base_uri": "https://localhost:8080/",
     "height": 36
    },
    "colab_type": "code",
    "executionInfo": {
     "elapsed": 3175,
     "status": "ok",
     "timestamp": 1548820097302,
     "user": {
      "displayName": "One Fourth Labs Student",
      "photoUrl": "",
      "userId": "07586129509304884691"
     },
     "user_tz": -330
    },
    "id": "7-Q_iKju3wdR",
    "outputId": "9e3f3795-f802-41ec-fd27-8ab945410abc"
   },
   "outputs": [],
   "source": [
    "!ls"
   ]
  },
  {
   "cell_type": "code",
   "execution_count": null,
   "metadata": {
    "colab": {},
    "colab_type": "code",
    "id": "KgkiVMM33xww"
   },
   "outputs": [],
   "source": [
    "!mv 3f9yaVLKTyUGmlBPcSOA_logo_long.png onefourthlabs.png"
   ]
  },
  {
   "cell_type": "code",
   "execution_count": null,
   "metadata": {
    "colab": {
     "base_uri": "https://localhost:8080/",
     "height": 36
    },
    "colab_type": "code",
    "executionInfo": {
     "elapsed": 3191,
     "status": "ok",
     "timestamp": 1548820117218,
     "user": {
      "displayName": "One Fourth Labs Student",
      "photoUrl": "",
      "userId": "07586129509304884691"
     },
     "user_tz": -330
    },
    "id": "22iOaO2G31eE",
    "outputId": "88ab30b2-2fc2-4f16-f415-a85d37e26d3b"
   },
   "outputs": [],
   "source": [
    "!ls"
   ]
  },
  {
   "cell_type": "code",
   "execution_count": null,
   "metadata": {
    "colab": {},
    "colab_type": "code",
    "id": "9Vq30WyH32ni"
   },
   "outputs": [],
   "source": [
    "import matplotlib.image as mpimg"
   ]
  },
  {
   "cell_type": "code",
   "execution_count": null,
   "metadata": {
    "colab": {},
    "colab_type": "code",
    "id": "wSI9QFqL37hU"
   },
   "outputs": [],
   "source": [
    "img = mpimg.imread('onefourthlabs.png')"
   ]
  },
  {
   "cell_type": "code",
   "execution_count": null,
   "metadata": {
    "colab": {
     "base_uri": "https://localhost:8080/",
     "height": 954
    },
    "colab_type": "code",
    "executionInfo": {
     "elapsed": 748,
     "status": "ok",
     "timestamp": 1548820157379,
     "user": {
      "displayName": "One Fourth Labs Student",
      "photoUrl": "",
      "userId": "07586129509304884691"
     },
     "user_tz": -330
    },
    "id": "pfmD9rIm3_B9",
    "outputId": "eaed982a-67ed-4f0d-9d32-6cfc3080c73d"
   },
   "outputs": [],
   "source": [
    "print(img)"
   ]
  },
  {
   "cell_type": "code",
   "execution_count": null,
   "metadata": {
    "colab": {
     "base_uri": "https://localhost:8080/",
     "height": 141
    },
    "colab_type": "code",
    "executionInfo": {
     "elapsed": 789,
     "status": "ok",
     "timestamp": 1548820186277,
     "user": {
      "displayName": "One Fourth Labs Student",
      "photoUrl": "",
      "userId": "07586129509304884691"
     },
     "user_tz": -330
    },
    "id": "jw3eIxBa4BBb",
    "outputId": "3b7cfe73-0fbe-4798-d0fc-c05985d43367"
   },
   "outputs": [],
   "source": [
    "imgplot = plt.imshow(img)"
   ]
  },
  {
   "cell_type": "code",
   "execution_count": null,
   "metadata": {
    "colab": {},
    "colab_type": "code",
    "id": "KaLC_q5a4IDn"
   },
   "outputs": [],
   "source": []
  },
  {
   "cell_type": "markdown",
   "metadata": {
    "colab_type": "text",
    "id": "46sl8tGg6E5n"
   },
   "source": [
    "# Pandas"
   ]
  },
  {
   "cell_type": "code",
   "execution_count": null,
   "metadata": {
    "colab": {},
    "colab_type": "code",
    "id": "5ra4u9GU6GiY"
   },
   "outputs": [],
   "source": []
  }
 ],
 "metadata": {
  "colab": {
   "name": "0202_PythonBasics.ipynb",
   "provenance": [],
   "version": "0.3.2"
  },
  "kernelspec": {
   "display_name": "Python 3",
   "language": "python",
   "name": "python3"
  },
  "language_info": {
   "codemirror_mode": {
    "name": "ipython",
    "version": 3
   },
   "file_extension": ".py",
   "mimetype": "text/x-python",
   "name": "python",
   "nbconvert_exporter": "python",
   "pygments_lexer": "ipython3",
   "version": "3.6.7"
  }
 },
 "nbformat": 4,
 "nbformat_minor": 1
}
